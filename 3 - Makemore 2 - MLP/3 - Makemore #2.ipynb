{
 "cells": [
  {
   "cell_type": "markdown",
   "id": "0fb6c136",
   "metadata": {},
   "source": [
    "# Building Makemore - Part 2: MLP\n",
    "\n",
    "[Video](https://www.youtube.com/watch?v=TCH_1BHY58I)<br>\n",
    "[Repository](https://github.com/karpathy/makemore)<br>\n",
    "[Eureka Labs Discord](https://discord.com/invite/3zy8kqD9Cp)\n",
    "\n",
    "## Table of Contents\n",
    "\n",
    "- [Deep Dive: Bengio et al. 2003](#deep-dive-bengio-et-al-2003)\n",
    "- [Building the Dataset](#building-the-dataset)\n",
    "- [Character Embeddings](#character-embeddings)\n",
    "- [Hidden Layer Construction](#hidden-layer-construction)\n",
    "- [Output Layer](#output-layer)\n",
    "- [Condensing the concepts](#condensing-the-concepts)\n",
    "- [Working with the full dataset](#working-with-the-full-dataset)\n",
    "    - [Accelerate with Batch-Processing](#accelerate-with-batch-processing)\n",
    "    - [Improve the Learning Rate](#improve-the-learning-rate)\n",
    "    - [Split the dataset](#split-the-dataset)\n",
    "    - [Remove the Embedding Bottleneck](#remove-the-embedding-bottleneck)"
   ]
  },
  {
   "cell_type": "code",
   "execution_count": 5,
   "id": "977530a6",
   "metadata": {},
   "outputs": [],
   "source": [
    "import torch\n",
    "import torch.nn.functional as F\n",
    "import matplotlib.pyplot as plt\n",
    "%matplotlib inline\n",
    "\n",
    "device = torch.device(\"cuda:0\" if torch.cuda.is_available() else \"cpu\") # Use GPU if available"
   ]
  },
  {
   "cell_type": "markdown",
   "id": "15d5d74f",
   "metadata": {},
   "source": [
    "In the last session we built Makemore with a Bigram model and then we built it again with a super simple single-layer neural network.<br>\n",
    "As already mentioned in the prior notebook, both of these approaches have serious limitations.<br>\n",
    "For example, all predictions are always based on the *single* previous character, not on larger context sequences of characters.<br>\n",
    "\n",
    "**And honestly: Neither of the two models really produce convincing names.**\n",
    "\n",
    "If we could use more than one character to predict the next character, we would:\n",
    "\n",
    "**a)** Have the two current approaches become really expensive really quickly<br>\n",
    "**b)** *BUT:* Be able to make much better predictions from more available context\n",
    "\n",
    "We had already noticed that the NN approach is noticably more flexible and scalable than Bigram.<br> \n",
    "We want to tweak it further. **We'll extend the single-layer NN to a deeper Multi-Layer Perceptron Model (MLP)**.<br>\n",
    "In order to do so, we will follow the general approach from [this very well written paper. \\[Bengio et al. 2003\\]](https://www.jmlr.org/papers/volume3/bengio03a/bengio03a.pdf)"
   ]
  },
  {
   "cell_type": "markdown",
   "id": "2ce3db1c",
   "metadata": {},
   "source": [
    "## Deep Dive: Bengio et al. 2003\n",
    "\n",
    "With a vocabulary of $17,000$ words, the paper develops a *word-level* language model.<br>\n",
    "This differs from our *character-level* approach.<br>\n",
    "**We intend to keep our work character-level, but model our MLP just the same.**\n",
    "\n",
    "The paper assigns a $30$-dimensional feature vector to each input word.<br>\n",
    "A field $i$ in this vector does **not** correspond to the alphabetical index of the letter at position $i$ in the word. More on that later.<br>\n",
    "In fact, the paper inputs each word itself. A lookup table for the letter indices is responsible for the conversion. The lookup table is $17,000\\times 30$ in size. Each word (not character, but word) is an index in this table, which points to a unique $30$-dimensional vector.<br>\n",
    "\n",
    "![](./images/bengioetal03.PNG)<br>\n",
    "(This image is bottom-up, i.e. the input is at the bottom)\n",
    "\n",
    "> In the NN, **multiple words** are read in as input, i.e. multiple word vectors.\n",
    "> Example input: \"A dog was running in a [...]\"\n",
    "\n",
    "Let's say we have three words embedded into three $30$-dimensional vectors.<br>\n",
    "The resulting concatenation of these vectors forms the input for a fully-connected layer, activated by `tanh`, which can be chosen arbitrarily wide.<br>\n",
    "(It is logically decoupled from the amount of words in the input in its own width)\n",
    "\n",
    "Then follows another layer of the fixed width of $17,000$, where `softmax` is applied.<br>Softmax normalizes the outputs to partial probabilities over the set of possible words. In the end, the neuron with the highest assigned probability is chosen.<br>(And backprop is then performed, if training is running). This neuron represents an index for one of the $17,000$ trained words, the word to come next.\n",
    "\n",
    "The dotted lines in the image can be ignored. That is an idea that we will not consider further here.<br>\n",
    "So let's start (as with the prior makemore part) by creating the necessary data structures.\n",
    "\n",
    "To summarize the above, we need:\n",
    "- a lookup table for character embedding vectors\n",
    "- a fully-connected layer, tanh activated, arbitrary width\n",
    "- a fully-connected layer, softmax activated, width $17,000$\n",
    "- a loss function\n",
    "- a training loop"
   ]
  },
  {
   "cell_type": "markdown",
   "id": "5706505c",
   "metadata": {},
   "source": [
    "## Building the dataset"
   ]
  },
  {
   "cell_type": "code",
   "execution_count": 6,
   "id": "e1a1fed0",
   "metadata": {},
   "outputs": [
    {
     "name": "stdout",
     "output_type": "stream",
     "text": [
      "['emma', 'olivia', 'ava', 'isabella', 'sophia', 'charlotte', 'mia', 'amelia']\n",
      "32033\n"
     ]
    }
   ],
   "source": [
    "# read in all 32033 words\n",
    "words = open('../names.txt', 'r').read().splitlines()\n",
    "print(words[:8]) # show a sample of the first 8 names\n",
    "print(len(words)) # this many words in total"
   ]
  },
  {
   "cell_type": "markdown",
   "id": "b62926ff",
   "metadata": {},
   "source": [
    "Just like in the prior lecture, we create two maps 'integer-to-character' (`itos`) and 'character-to-integer' (`stoi`) to work with the $27$ possible characters."
   ]
  },
  {
   "cell_type": "code",
   "execution_count": 7,
   "id": "82d06592",
   "metadata": {},
   "outputs": [
    {
     "name": "stdout",
     "output_type": "stream",
     "text": [
      "{1: 'a', 2: 'b', 3: 'c', 4: 'd', 5: 'e', 6: 'f', 7: 'g', 8: 'h', 9: 'i', 10: 'j', 11: 'k', 12: 'l', 13: 'm', 14: 'n', 15: 'o', 16: 'p', 17: 'q', 18: 'r', 19: 's', 20: 't', 21: 'u', 22: 'v', 23: 'w', 24: 'x', 25: 'y', 26: 'z', 0: '.'}\n",
      "\n",
      "{'a': 1, 'b': 2, 'c': 3, 'd': 4, 'e': 5, 'f': 6, 'g': 7, 'h': 8, 'i': 9, 'j': 10, 'k': 11, 'l': 12, 'm': 13, 'n': 14, 'o': 15, 'p': 16, 'q': 17, 'r': 18, 's': 19, 't': 20, 'u': 21, 'v': 22, 'w': 23, 'x': 24, 'y': 25, 'z': 26, '.': 0}\n"
     ]
    }
   ],
   "source": [
    "# build a vocabulary of characters map them to integers\n",
    "chars = sorted(list(set(''.join(words)))) # set(): Throwing out letter duplicates\n",
    "\n",
    "stoi = {s:i+1 for i,s in enumerate(chars)} # Make tupels of type (char, counter)\n",
    "stoi['.'] = 0 # Add this special symbol's entry explicitly\n",
    "\n",
    "itos = {i:s for s,i in stoi.items()} # Switch order of (char, counter) to (counter, char)\n",
    "\n",
    "# showing the two mappings, they really just are mirrors of one another\n",
    "print(itos)\n",
    "print()\n",
    "print(stoi)"
   ]
  },
  {
   "cell_type": "markdown",
   "id": "9db318cd",
   "metadata": {},
   "source": [
    "To now build the dataset, we define a new paramter `block_size`, stating how many characters we will evaluate from the word in order to predict the next character. We set this to $3$ for now."
   ]
  },
  {
   "cell_type": "code",
   "execution_count": 8,
   "id": "0ed72e77",
   "metadata": {},
   "outputs": [
    {
     "name": "stdout",
     "output_type": "stream",
     "text": [
      "\n",
      "emma\n",
      "... ---> e\n",
      "..e ---> m\n",
      ".em ---> m\n",
      "emm ---> a\n",
      "mma ---> .\n",
      "\n",
      "olivia\n",
      "... ---> o\n",
      "..o ---> l\n",
      ".ol ---> i\n",
      "oli ---> v\n",
      "liv ---> i\n",
      "ivi ---> a\n",
      "via ---> .\n",
      "\n",
      "ava\n",
      "... ---> a\n",
      "..a ---> v\n",
      ".av ---> a\n",
      "ava ---> .\n",
      "\n",
      "isabella\n",
      "... ---> i\n",
      "..i ---> s\n",
      ".is ---> a\n",
      "isa ---> b\n",
      "sab ---> e\n",
      "abe ---> l\n",
      "bel ---> l\n",
      "ell ---> a\n",
      "lla ---> .\n",
      "\n",
      "sophia\n",
      "... ---> s\n",
      "..s ---> o\n",
      ".so ---> p\n",
      "sop ---> h\n",
      "oph ---> i\n",
      "phi ---> a\n",
      "hia ---> .\n"
     ]
    }
   ],
   "source": [
    "# Build the dataset\n",
    "block_size = 3  # context length: how many characters used to predict the next? (1 before)\n",
    "X, Y = [], []   # features (input to nn) and labels (output)\n",
    "\n",
    "# Just showing off the first five words split into tokens\n",
    "for w in words[:5]:\n",
    "    print(f'\\n{w}')\n",
    "    context = [0] * block_size\n",
    "    for ch in w + '.':\n",
    "        ix = stoi[ch]\n",
    "        X.append(context)\n",
    "        Y.append(ix)\n",
    "        # Showing what input and expected output now look like\n",
    "        print(''.join(itos[i] for i in context), '--->', itos[ix])\n",
    "        context = context[1:] + [ix] # crop and append, like a sliding window; NEAT!\n",
    "        # old context starts at index 1 and is appended with the new index -> sliding window of block_size\n",
    "\n",
    "# Again, these *do not* carry characters, but their respective indexes\n",
    "X = torch.tensor(X)\n",
    "Y = torch.tensor(Y)"
   ]
  },
  {
   "cell_type": "code",
   "execution_count": 9,
   "id": "6578926d",
   "metadata": {},
   "outputs": [
    {
     "name": "stdout",
     "output_type": "stream",
     "text": [
      "Input:  torch.Size([32, 3])\ttorch.int64\ttensor([0, 0, 0])\n",
      "Output: torch.Size([32])\ttorch.int64\t5\n"
     ]
    }
   ],
   "source": [
    "# This is what the dataset looks like right now\n",
    "# 32 b.c If you count all the sliding windows across the first \n",
    "# five words (including the additional '.' character at the end \n",
    "# of each word), you'll get a total of 32.\n",
    "print(f'Input:  {X.shape}\\t{X.dtype}\\t{X[0]}') # 32 times the 3 character indexes before the next one\n",
    "print(f'Output: {Y.shape}\\t{Y.dtype}\\t{Y[0]}') # 32 times the next character's index"
   ]
  },
  {
   "cell_type": "markdown",
   "id": "adbc6db4",
   "metadata": {},
   "source": [
    "## Character Embeddings"
   ]
  },
  {
   "cell_type": "markdown",
   "id": "42be37d5",
   "metadata": {},
   "source": [
    "For this dataset, we now can pretty straight-forwardly setup the NN structure from the paper. We start with the lookup table `C`.<br>\n",
    "We have $27$ possible characters ($26+1$).<br>\n",
    "<br>\n",
    "(The paper concerned $17,000$ words, which were compressed into $30$ dimensional representations)<br>\n",
    "<br>\n",
    "We will morph the $27$ characters into a numerical 2D space.<br>\n",
    "We will use $2$ dimensions per character for now, so we can visualize the results later.<br>\n",
    "This is not really compressing, but rather expanding the data. Still, works for our purposes."
   ]
  },
  {
   "cell_type": "code",
   "execution_count": 10,
   "id": "754199ba",
   "metadata": {},
   "outputs": [
    {
     "name": "stdout",
     "output_type": "stream",
     "text": [
      "tensor([[ 2.0009,  0.8303],\n",
      "        [-0.9514, -1.4418],\n",
      "        [-0.1610,  0.8722],\n",
      "        [ 0.8944,  1.5010],\n",
      "        [ 0.4226, -0.6039],\n",
      "        [-0.2713, -1.3989],\n",
      "        [-0.0760,  0.1450],\n",
      "        [ 0.3027, -1.0453],\n",
      "        [-0.7073,  0.0378],\n",
      "        [ 0.3410, -0.7520],\n",
      "        [-1.7593,  0.1331],\n",
      "        [ 1.9800, -0.3726],\n",
      "        [-0.8799, -0.7134],\n",
      "        [-1.0207,  0.5494],\n",
      "        [ 0.8065, -1.0045],\n",
      "        [-2.3370,  1.7888],\n",
      "        [ 1.6799,  0.0852],\n",
      "        [ 0.4007, -0.4381],\n",
      "        [-0.4803,  0.9483],\n",
      "        [-0.0321,  1.1262],\n",
      "        [ 1.2119, -0.8037],\n",
      "        [ 0.0077,  0.1206],\n",
      "        [-1.0894, -0.4437],\n",
      "        [-1.0429, -1.5477],\n",
      "        [ 0.2260, -0.3124],\n",
      "        [ 0.8850, -0.3068],\n",
      "        [ 0.0301, -1.3580]])\n"
     ]
    }
   ],
   "source": [
    "# This will be the lookup table\n",
    "# 27 rows, 2 chars\n",
    "C = torch.randn((27, 2)) # each of 27 items has its own unique 2-dimensional numeric embedding in here\n",
    "print(C)"
   ]
  },
  {
   "cell_type": "markdown",
   "id": "ece5cc50",
   "metadata": {},
   "source": [
    "Before we embed all of $X$ into $C$, let's play around with this concept of embedding with a single numeric value first."
   ]
  },
  {
   "cell_type": "code",
   "execution_count": 11,
   "id": "667e9d6d",
   "metadata": {},
   "outputs": [
    {
     "name": "stdout",
     "output_type": "stream",
     "text": [
      "tensor([-0.2713, -1.3989])\n"
     ]
    }
   ],
   "source": [
    "print(C[stoi['e']])"
   ]
  },
  {
   "cell_type": "markdown",
   "id": "5bf153e0",
   "metadata": {},
   "source": [
    "Ok, that was pretty straight-forward.<br>\n",
    "With our first iteration on Makemore, we used One-Hot Encoding.\n",
    "\n",
    "Let's try that out here:"
   ]
  },
  {
   "cell_type": "code",
   "execution_count": 12,
   "id": "c81d6453",
   "metadata": {},
   "outputs": [
    {
     "data": {
      "text/plain": [
       "tensor([0, 0, 0, 0, 0, 1, 0, 0, 0, 0, 0, 0, 0, 0, 0, 0, 0, 0, 0, 0, 0, 0, 0, 0,\n",
       "        0, 0, 0])"
      ]
     },
     "execution_count": 12,
     "metadata": {},
     "output_type": "execute_result"
    }
   ],
   "source": [
    "# Given 27 possible characters, embed the number 5 (e)\n",
    "# one_hot encoding, encode integer 5, and tell it num_class is 27\n",
    "# creates 26 dimension of all zeros, except 5th bit is turned on\n",
    "# We get a one_hot vector, where 5th dimension is one, and shape is 27\n",
    "F.one_hot(torch.tensor(5), num_classes=27) # shape is (27,)"
   ]
  },
  {
   "cell_type": "markdown",
   "id": "336841fc",
   "metadata": {},
   "source": [
    "If we now multiply this One-Hot vector with the embedding matrix `C`, we get the same result as before: `C[5]`.<br>\n",
    "**That is exactly what we want**.<br>\n",
    "\n",
    "Even though this construct looks like a detour, we now have capped the value of possible inputs (i.e. the numerical letter indices) at a known, desired maximum of $27$.<br>\n",
    "Remember, One-Hot Encoding allows for positional context and knowledge of range of value to make the whole thing much more robust.\n",
    "\n",
    "To drive the point home, this is what we now do:"
   ]
  },
  {
   "cell_type": "code",
   "execution_count": 13,
   "id": "2503020c",
   "metadata": {},
   "outputs": [
    {
     "name": "stdout",
     "output_type": "stream",
     "text": [
      "tensor([-0.2713, -1.3989])\n",
      "tensor([True, True])\n"
     ]
    }
   ],
   "source": [
    "print(F.one_hot(torch.tensor(stoi['e']), num_classes=27).float() @ C) # stoi['e'] = 5\n",
    "print(F.one_hot(torch.tensor(stoi['e']), num_classes=27).float() @ C == C[stoi['e']])"
   ]
  },
  {
   "cell_type": "markdown",
   "id": "cff6bdc2",
   "metadata": {},
   "source": [
    "Going further now, we will *not* do this, simply because a direct call like `C[5]` is sufficient for our example.<br>\n",
    "Still, the effect of One-Hot Encoding is very interesting in this case.<br>\n",
    "<br>\n",
    "**But how do we now get all $32\\times 3$ integer values from $X$ embedded?**<br>\n",
    "Where does the $32\\times 3$ come from? Well, we have $32$ inputs from the originally $5$ words we comprised our dataset of. And each of these inputs consists of $3$ characters. The $32$ thus is directly related to our arbitrary choice of dataset size.<br>\n",
    "\n",
    "Fortunately, Python is quite flexible when it comes to embedding.<br>\n",
    "For example, you can request multiple datasets like this: `a[[3,4,5]]`, or `a[[torch.tensor([3,4,5])]]` or even `a[[torch.tensor([3,4,4,4,5])]]`.\n",
    "\n",
    "We can use this to our advantage.\n",
    "\n",
    "As `X` carries the indices of the characters, we can use it to index into `C` directly:"
   ]
  },
  {
   "cell_type": "code",
   "execution_count": 14,
   "id": "4e699720",
   "metadata": {},
   "outputs": [
    {
     "name": "stdout",
     "output_type": "stream",
     "text": [
      "tensor(1)\n",
      "tensor([-0.9514, -1.4418])\n",
      "torch.Size([32, 3, 2])\n"
     ]
    }
   ],
   "source": [
    "print(X[13, 2])   # Plugging out an example character, here 'a' from ..a ---> v (14th input, 3rd character)\n",
    "# C = A lookup table for the letter indices is responsible for the conversion. The lookup table is  17,000×30\n",
    "# in size. Each word (not character, but word) is an index in this table, which points to a unique 30\n",
    "# -dimensional vector.\n",
    "print(C[X][13,2]) # This construct actually returns the 2-dim. embedding vector for 'a'\n",
    "\n",
    "# For all embeddings (character index to 2D vector) at once, Python can do this:\n",
    "# embed all the integers in X\n",
    "emb = C[X] # Done!\n",
    "\n",
    "print(C[X].shape) # 32 times 3 times 2 -> 32 inputs, 3 characters each, 2 dimensional embedding vector each"
   ]
  },
  {
   "cell_type": "markdown",
   "id": "561e264e",
   "metadata": {},
   "source": [
    "## Hidden Layer Construction"
   ]
  },
  {
   "cell_type": "markdown",
   "id": "c796ca18",
   "metadata": {},
   "source": [
    "It's time to build the hidden layer. We can make it as wide as we want. But one thing is important:<br>\n",
    "If we get three character vectors with two numerical values each, it makes for a total of $6$ inputs.<br>\n",
    "(Below, a layer width of $100$ is chosen arbitrarily)"
   ]
  },
  {
   "cell_type": "code",
   "execution_count": 15,
   "id": "c51dc916",
   "metadata": {},
   "outputs": [],
   "source": [
    "# weights initialized randomly\n",
    "# 6 b/c there are 3 - 2dim embeddings print(emb.shape) -> torch.Size([32,3,2])\n",
    "W1 = torch.randn((6, 100)) # 6 -> 3 vectors á 2 values, 100 neurons\n",
    "b1 = torch.randn(100)      # for each of the 100 neurons, add a bias\n",
    "\n",
    "# emb @ w1 + b1 won't work\n",
    "\n",
    "# The multiplication of  𝑒𝑚𝑏( 32×3×2) with  𝑊1+𝑏1 (6×100) doesn't work.\n",
    "# 32: Batch size (number of samples).\n",
    "# 3: Sequence length (block_size or context length).\n",
    "# 2: Embedding dimension (size of each character embedding)."
   ]
  },
  {
   "cell_type": "markdown",
   "id": "fa61d7b9",
   "metadata": {},
   "source": [
    "What we essentially now want to do is $emb\\ @\\ W1 + b1$. But that doesn't work.<br>\n",
    "\n",
    "**Problem:**<br>\n",
    "The multiplication of $emb$ ($32\\times 3\\times 2$) with $W1 + b1$ ($6\\times 100$) doesn't work.<br>\n",
    "We'll have to find a way to reasonably attain a shape of ($32\\times 6$) for the multiplication.<br>\n",
    "\n",
    "**Solution:**<br>\n",
    "We concatenate the $32$ individual $3\\times 2$ vectors horizontally, instead of stacking them vertically on top of each other.<br>\n",
    "Thus, we obtain $32$ vectors, one per input, with $6$ values each, two for each embedded character, in order of their appearance.<br>\n",
    "There are many ways to achieve this. PyTorch is almost too versatile on this actually. Let's try the function `cat()`:"
   ]
  },
  {
   "cell_type": "code",
   "execution_count": 16,
   "id": "f72090b0",
   "metadata": {},
   "outputs": [
    {
     "name": "stdout",
     "output_type": "stream",
     "text": [
      "torch.Size([32, 2])\n"
     ]
    }
   ],
   "source": [
    "# 32 vectors, one for each input tuple, each 6-dimensional (3 characters, 2 values each)\n",
    "emb[:, 0, :] # This is the first character's embedding vector for all 32 input tuples\n",
    "\n",
    "print(emb[:, 0, :].shape) # 32 times 2 -> 32 inputs, 2 values each"
   ]
  },
  {
   "cell_type": "code",
   "execution_count": 17,
   "id": "3970c307",
   "metadata": {},
   "outputs": [
    {
     "name": "stdout",
     "output_type": "stream",
     "text": [
      "torch.Size([32, 6])\n"
     ]
    }
   ],
   "source": [
    "# Concatenating all three input character embedding vectors into one 6-dimensional vector per input tuple\n",
    "# 1 means: Concatenate along the first dimension (rows) -> 32 times 6\n",
    "torch.cat([emb[:,0,:], emb[:,1,:], emb[:,2,:]], 1)\n",
    "print(torch.cat([emb[:,0,:], emb[:,1,:], emb[:,2,:]], 1).shape)"
   ]
  },
  {
   "cell_type": "markdown",
   "id": "970aa0c9",
   "metadata": {},
   "source": [
    "This is exactly what we wanted.<br>\n",
    "To repeat, for the $32$ inputs, i.e. the $32$ triplets, we now have $32$ vectors of width $6$ instead of $3$ vectors of width $2$.\n",
    "\n",
    "**But, another problem:**<br>\n",
    "If we were to change the block size from $3$ to something else, we would have to adapt this concatenation code.\n",
    "\n",
    "**Solution:**<br>\n",
    "Instead of `cat()`, we can use `unbind()` to split the tensor into a list of tensors, which we can then concatenate again with `cat()`.<br>\n",
    "This way we can generalize the code to any block size, as the block size is now not hard-coded into the concatenation anymore.<br>\n",
    "We build in a generalized way, what we had above with `emb[:,0,:]`, `emb[:,1,:]` and `emb[:,2,:]`."
   ]
  },
  {
   "cell_type": "code",
   "execution_count": 18,
   "id": "890f0491",
   "metadata": {},
   "outputs": [
    {
     "name": "stdout",
     "output_type": "stream",
     "text": [
      "torch.Size([32, 2])\n",
      "3\n"
     ]
    }
   ],
   "source": [
    "# We separate the 32x3x2 into a tuple of 3 individual 32x2 tensors using unbind()\n",
    "# 1 -> dimension 1 is the axis along a tuple of (therefore 3) tensors is created, each 32x2 (the other two dimensions)\n",
    "print(torch.unbind(emb, 1)[0].shape) # This is equivalient to above list [emb[:,0,:], emb[:,1,:], emb[:,2,:]]\n",
    "print(len(torch.unbind(emb, 1)))"
   ]
  },
  {
   "cell_type": "code",
   "execution_count": 19,
   "id": "76aeec43",
   "metadata": {},
   "outputs": [
    {
     "name": "stdout",
     "output_type": "stream",
     "text": [
      "torch.Size([32, 6])\n"
     ]
    }
   ],
   "source": [
    "# We concatenate the three 32x2 tensors into one big tensor, just like before\n",
    "torch.cat(torch.unbind(emb, 1), 1) # concatenate all (3 here) individual 32x2 tensors along dimension 1 (a row is 3 2-dimensional vectors each -> 6-dimensional vector now)\n",
    "print(torch.cat(torch.unbind(emb, 1), 1).shape) # 32 times 6"
   ]
  },
  {
   "cell_type": "markdown",
   "id": "97aa7a7a",
   "metadata": {},
   "source": [
    "Before we continue: **What have we done here?**\n",
    "\n",
    "We took the letters of our names. For each letter we recorded the $3$ preceding characters.<br>If there were none, this was filled and represented with the character `\".\"`, just like at the end of a word.<br>\n",
    "The respective follow-up letter is the output we expect given the input of the $3$ preceding characters.<br>\n",
    "The triplets are the inputs. But we embed them first, as we have seen above.\n",
    "\n",
    "For each triplet, we go through the characters and assign the alphabetical character index.<br>\n",
    "For each character index, we look up the corresponding $2$-dimensional embedding vector in lookup-table `C`.<br>\n",
    "**Every letter in the triplet is now represented by a $2$-dimensional vector.**\n",
    "\n",
    "The next layer has $6$ inputs and $100$ neurons. The $6$ result from the fact that we have a triplet as input, which is represented now by $3$ embedding vectors with $2$ elements each.<br><br>\n",
    "And at this point, the above problem arises: We have $32$ triplets total and per triplet $3$ vectors with $2$ elements each, but we need $6$ elements to represent a triplet for the next layer.<br>\n",
    "So we concatenate the $3$ vectors á $2$ values representing one triplet row-wise and in order into one vector of $6$ elements.<br>We do this for all $32$ triplets. Problem solved.\n",
    "\n",
    "**But not quite**, because we had hard-coded the block size of $3$ into the code.<br>\n",
    "This was generalized for any `block_size` through using `unbind()` with `cat()`.\n",
    "\n",
    "Actually, let's take a closer look at how tensors are mendable in PyTorch:"
   ]
  },
  {
   "cell_type": "code",
   "execution_count": 20,
   "id": "be905e88",
   "metadata": {},
   "outputs": [
    {
     "name": "stdout",
     "output_type": "stream",
     "text": [
      "torch.Size([18])\n",
      "torch.Size([3, 3, 2])\n"
     ]
    },
    {
     "data": {
      "text/plain": [
       "True"
      ]
     },
     "execution_count": 20,
     "metadata": {},
     "output_type": "execute_result"
    }
   ],
   "source": [
    "a = torch.arange(18)\n",
    "print(a.shape) # 18-dimensional vector\n",
    "\n",
    "# Reshape to 3x3x2 tensor (works, as 3x3x2 = 18) (very efficient, no copying of data)\n",
    "a = a.view(3, 3, 2)\n",
    "print(a.shape)\n",
    "\n",
    "# Can we transfer this approach to our 32x3x2 tensor problem?\n",
    "True if torch.all(torch.eq(emb.view(32, 6), torch.cat(torch.unbind(emb, 1), 1))) else False\n",
    "# Long story short: Yes, we can! All of the above is equivalent to just re-arranging how we look at the data"
   ]
  },
  {
   "cell_type": "markdown",
   "id": "c32b1e1d",
   "metadata": {},
   "source": [
    "The `view()` function is very powerful.<br>\n",
    "It allows us to reshape a tensor in any way we want, as long as the total number of elements stays the same.<br>\n",
    "<br>\n",
    "More on this [here \\[ezyang’s blog\\]](http://blog.ezyang.com/2019/05/pytorch-internals/).\n",
    "\n",
    "Ok, now for real. We adjust the correct matrix `emb` with `view()`.<br>\n",
    "We do this right away with the full definition for the calculation of the hidden layer:"
   ]
  },
  {
   "cell_type": "code",
   "execution_count": 21,
   "id": "be8387f1",
   "metadata": {},
   "outputs": [
    {
     "name": "stdout",
     "output_type": "stream",
     "text": [
      "torch.Size([32, 100])\n",
      "tensor([ 0.4093, -1.0000, -0.9311, -0.4521,  0.9995])\n"
     ]
    }
   ],
   "source": [
    "# h is the result of the hidden layer\n",
    "# h = emb.view(emb.shape[0],6) @ W1 + b1 # emb.shape[0] is 32, but this has to be variable (BUG!)\n",
    "\n",
    "# Alternative to the above comment, again because of PyTorch:\n",
    "# PyTorch reads the -1 and infers, because 6 is already used up from (2x3): 32 times 6 or inputs times 6 generally\n",
    "h = torch.tanh(emb.view(-1,6) @ W1 + b1) # produces 32 times 100 activations of the hidden layer\n",
    "\n",
    "# Just for fun, let's see what h and its contents look like\n",
    "print(h.shape)\n",
    "print(h[0][:5])"
   ]
  },
  {
   "cell_type": "markdown",
   "id": "1da908c8",
   "metadata": {},
   "source": [
    "With the above, we glossed over the intricacy that is multiplying and adding tensors correctly.<br>\n",
    "It is the issue of broadcasting, again.\n",
    "\n",
    "For the above, we know:"
   ]
  },
  {
   "cell_type": "code",
   "execution_count": 22,
   "id": "8ecb53a1",
   "metadata": {},
   "outputs": [
    {
     "name": "stdout",
     "output_type": "stream",
     "text": [
      "torch.Size([32, 100])\n",
      "torch.Size([100])\n"
     ]
    }
   ],
   "source": [
    "print((emb.view(-1,6) @ W1).shape)\n",
    "print(b1.shape)"
   ]
  },
  {
   "cell_type": "markdown",
   "id": "67f87450",
   "metadata": {},
   "source": [
    "With Broadcasting we first:\n",
    "1) Align all dimensions to the right (of all tensors)\n",
    "\n",
    "This is the case here:\n",
    "- $[32, 100]$\n",
    "- $[(1), 100]$ (the $1$ is added by broadcasting)\n",
    "\n",
    "2) Now, expand the dimension of the tensor with the lower rank to match the dimension of the tensor with the higher rank\n",
    "\n",
    "This is the case here:\n",
    "- $[32, 100]$\n",
    "- $[(32\\times 1), 100]$ (we replicate the $100$ values of the $2^{\\text{nd}}$ tensor $32$ times)\n",
    "\n",
    "In effect, single one of the $32$ inputs is incremented by the same $100$ biases from the $2^{\\text{nd}}$ tensor all the time.<br>\n",
    "That's good, because we want to multiply each input with the same bias values.<br>\n",
    "Remember, we don't train/alter these yet, so they are strictly the same every time.\n"
   ]
  },
  {
   "cell_type": "markdown",
   "id": "3f72d29d",
   "metadata": {},
   "source": [
    "## Output Layer\n",
    "\n",
    "This will look somewhat familiar. It's closely related to the setup of the hidden layer.<br>\n",
    "One thing is different though, apart from the different dimensions of the tensors: The activation function.<br>\n",
    "We use softmax here instead of tanh to get a normalized probability distribution over the $17,000$ possible words."
   ]
  },
  {
   "cell_type": "code",
   "execution_count": 23,
   "id": "1f6140f4",
   "metadata": {},
   "outputs": [
    {
     "name": "stdout",
     "output_type": "stream",
     "text": [
      "Logits: torch.Size([32, 27])\n",
      "Probabilities: torch.Size([32, 27])\n"
     ]
    }
   ],
   "source": [
    "# Choose softmax for probabilistic outputs and tanh for non-linear transformations in hidden layers.\n",
    "# softmax returns [0,1]\n",
    "# tanh returns [-1,1]\n",
    "# Initialize weights and biases for the output layer randomly\n",
    "W2 = torch.randn((100, 27)) # 100 inputs, 27 output neurons\n",
    "b2 = torch.randn(27)        # 27 biases\n",
    "\n",
    "# Neuron outputs\n",
    "logits = h @ W2 + b2\n",
    "print('Logits:', logits.shape) # This should be 32 times 27\n",
    "\n",
    "# Softmax transforms outputs into probabilities\n",
    "# exp() logits to get fake counts\n",
    "counts = logits.exp()\n",
    "# then normalize them into a probability\n",
    "prob = counts / counts.sum(1, keepdims=True)\n",
    "print('Probabilities:', prob.shape) # This should be 32 times 27 still"
   ]
  },
  {
   "cell_type": "markdown",
   "id": "85453f6f",
   "metadata": {},
   "source": [
    "Now we have to compare the output of the probability distribution of the last layer to the respective label found in `Y`.<br>\n",
    "To do this, first, we want to index into the rows of `prob` (the output of the last layer) with the indices found in `Y`.<br>\n",
    "And we want to do this for each of the $32$ input triplets respectively.<br>\n",
    "\n",
    "Let's quickly look at `Y` first:"
   ]
  },
  {
   "cell_type": "code",
   "execution_count": 25,
   "id": "f637c7e3",
   "metadata": {},
   "outputs": [
    {
     "data": {
      "text/plain": [
       "tensor(5)"
      ]
     },
     "execution_count": 25,
     "metadata": {},
     "output_type": "execute_result"
    }
   ],
   "source": [
    "Y[0] # This is the first expected output, the index of the first character in the first word"
   ]
  },
  {
   "cell_type": "markdown",
   "id": "01444399",
   "metadata": {},
   "source": [
    "This code now does what we set out above to do.<br>\n",
    "It's beautiful:"
   ]
  },
  {
   "cell_type": "code",
   "execution_count": 26,
   "id": "790a9693",
   "metadata": {},
   "outputs": [
    {
     "name": "stdout",
     "output_type": "stream",
     "text": [
      "tensor([4.5470e-05, 3.1072e-09, 2.7529e-07, 4.3996e-11, 5.1231e-04, 8.8953e-09,\n",
      "        2.2660e-06, 3.5607e-08, 2.3789e-16, 1.9398e-10, 3.8211e-08, 2.9198e-08,\n",
      "        7.0668e-06, 4.3851e-05, 5.1244e-05, 4.5009e-09, 9.8500e-13, 9.8512e-08,\n",
      "        1.4751e-03, 3.3123e-14, 6.3460e-06, 9.9995e-01, 2.0605e-03, 2.1800e-12,\n",
      "        3.1279e-08, 3.5158e-11, 2.2981e-08, 3.4991e-02, 1.0328e-16, 5.0648e-15,\n",
      "        1.3460e-04, 9.5219e-07])\n",
      "torch.Size([32])\n"
     ]
    }
   ],
   "source": [
    "# For each of the 32 input triplets, \n",
    "# give the probability for the correct output neuron, \n",
    "# which itself is accessed at the index stored in Y \n",
    "# at the same position\n",
    "# we want these probability to be 1\n",
    "print(prob[torch.arange(32), Y])\n",
    "print(prob[torch.arange(32), Y].shape) # 32 probabilities, one for each input triplet"
   ]
  },
  {
   "cell_type": "markdown",
   "id": "3810c280",
   "metadata": {},
   "source": [
    "These are the probabilities assigned to the indices for which we know from `Y` that they should be $1.0$.<br>\n",
    "With this knowledge, we now build the cost function to compare the predictions to the labels.\n",
    "\n",
    "### Why Use Negative Log-Likelihood Loss?\n",
    "\n",
    "#### Probabilistic Model Outputs:\n",
    "- In classification tasks, the model's output is a probability distribution over classes (via **softmax** in the final layer).\n",
    "- The goal is to **maximize the probability** of the correct class for each input.\n",
    "\n",
    "#### Log-Probability:\n",
    "- Probabilities are between **0** and **1**, so directly using them for optimization can lead to numerical instability (e.g., very small gradients for values close to **1**).\n",
    "- **Taking the log of probabilities** ensures numerical stability and makes it easier to handle products of probabilities (as they turn into sums with logs).\n",
    "\n",
    "#### Negative Log:\n",
    "- The log of a probability is negative (since probabilities are in **(0, 1]**).\n",
    "- To ensure the loss is positive (a standard convention in optimization), we take the **negative log**.\n",
    "\n",
    "#### Minimization Goal:\n",
    "- **Minimizing the negative log-probability** is equivalent to **maximizing the probability** of the correct class."
   ]
  },
  {
   "cell_type": "code",
   "execution_count": 27,
   "id": "72b16ef0",
   "metadata": {},
   "outputs": [
    {
     "name": "stdout",
     "output_type": "stream",
     "text": [
      "17.178123474121094\n"
     ]
    }
   ],
   "source": [
    "# create negative log-likelihood loss\n",
    "# We want the average log proability over \n",
    "# all 32 inputs to be our loss\n",
    "\n",
    "loss = -prob[torch.arange(32), Y].log().mean()\n",
    "print(loss.item()) # This is to be minimized"
   ]
  },
  {
   "cell_type": "markdown",
   "id": "52a56eb3",
   "metadata": {},
   "source": [
    "## Condensing the concepts\n",
    "\n",
    "The following is not really a recap, but a boiled down version of the above code:"
   ]
  },
  {
   "cell_type": "code",
   "execution_count": 28,
   "id": "647b831c",
   "metadata": {},
   "outputs": [
    {
     "name": "stdout",
     "output_type": "stream",
     "text": [
      "X: torch.Size([32, 3])  Y: torch.Size([32])\n",
      "3481 parameters\n"
     ]
    }
   ],
   "source": [
    "print('X:', X.shape, ' Y:', Y.shape)\n",
    "\n",
    "# Let's re-initialize the weights and biases\n",
    "g = torch.Generator().manual_seed(2147483647) # for reproducibility\n",
    "C = torch.randn((27,2), generator=g)        # 27 characters, 2 dimensions each\n",
    "W1 = torch.randn((6,100), generator=g)      # 3 characters times 2 embedding values as inputs to 100 neurons\n",
    "b1 = torch.randn((100), generator=g)        # 100 biases added to the 100 neuron outputs\n",
    "W2 = torch.randn((100,27), generator=g)     # 100 neuron outputs as inputs to 27 output neurons\n",
    "b2 = torch.randn((27), generator=g)         # 27 biases added to the 27 output neurons\n",
    "\n",
    "parameters = [C, W1, b1, W2, b2] # Cluster all parameters into one structure\n",
    "print(sum(p.nelement() for p in parameters), 'parameters') # print the total number of parameters (nelements = number of elements) present in the tensors"
   ]
  },
  {
   "cell_type": "code",
   "execution_count": 29,
   "id": "87fec854",
   "metadata": {},
   "outputs": [],
   "source": [
    "# Allowing for gradient accumulation\n",
    "for p in parameters:\n",
    "    p.requires_grad = True"
   ]
  },
  {
   "cell_type": "code",
   "execution_count": 30,
   "id": "f54816c8",
   "metadata": {},
   "outputs": [
    {
     "name": "stdout",
     "output_type": "stream",
     "text": [
      "0.2561309337615967\n"
     ]
    }
   ],
   "source": [
    "# 1000 training steps (epochs)\n",
    "for _ in range(1000):\n",
    "    # Forward-Pass\n",
    "    emb = C[X] # (32, 3, 2)\n",
    "    h = torch.tanh(emb.view(-1, 6) @ W1 + b1) # (32, 100)\n",
    "    # logits are output before activation function\n",
    "    logits = h @ W2 + b2 # (32, 27)\n",
    "\n",
    "    # logits = torch.tensor([-5, -3, 0, 5]) # safe when calling exp\n",
    "    # logits = torch.tensor([-100, -3, 0, 100]) # not safe (returns inf or v. small number) exp can be overflowed\n",
    "    # fixed with logits = torch.tensor([-100, -3, 0, 100]) + 5 in pyTorch - so use cross_entropy\n",
    "    # counts = logits.exp()\n",
    "    # prob = counts / counts.sum(1, keepdims=True)\n",
    "    # loss = -prob[torch.arange(32), Y].log().mean()\n",
    "    \n",
    "    # Replacing the above lines with PyTorch's built-in cross entropy\n",
    "    # loss function: this function behaves better numerically and avoids pitfalls \n",
    "    # like infinities by subtracting the maximum value from all \n",
    "    # logits before exponentiating\n",
    "    # low loss = good predictions\n",
    "    loss = F.cross_entropy(logits, Y)\n",
    "\n",
    "    # Backward-Pass\n",
    "    for p in parameters:\n",
    "        p.grad = None # Reset gradients (done before each backward pass to avoid accumulation over multiple passes)\n",
    "    \n",
    "    # populate gradients\n",
    "    loss.backward()\n",
    "    \n",
    "    # Update\n",
    "    # learning rate = -0.1\n",
    "    for p in parameters:\n",
    "        # nudge values by learning rate\n",
    "        p.data += -0.1 * p.grad # Nudge parameter values in negative gradient direction (learning rate = 0.1)\n",
    "\n",
    "print(loss.item())"
   ]
  },
  {
   "cell_type": "markdown",
   "id": "352961a5",
   "metadata": {},
   "source": [
    "Cross-Entropy is often combined with a softmax function for classification tasks. Instead of separately applying the softmax and then calculating the log-likelihood, the F.cross_entropy function in PyTorch does both in one step. It also internally subtracts the maximum value from logits to avoid overflow when exponentiating large values.\n",
    "\n",
    "\n",
    "We programmed this implementation of Cross-Entropy with Softmax pretty literally so far.<br>\n",
    "This is pretty inefficient. PyTorch can provide significant performance boosts through internal condensing. \n",
    "\n",
    "This way:\n",
    "1. The forward pass becomes more efficient\n",
    "2. Backprop becomes more efficient\n",
    "3. The Cross-Entropy is \"numerically more well behaved\", i.e. it is calculated more robustly (see the code comment on this)\n",
    "\n",
    "With the above code, we train on only $32$ inputs. We overfit with our $3481$ network parameters, to be precise.\n",
    "\n",
    "> The bigger the parameter count and the smaller the input set, the higher the risk of overfitting."
   ]
  },
  {
   "cell_type": "markdown",
   "id": "168de786",
   "metadata": {},
   "source": [
    "Comparing the logits (the actual network outputs) to the labels, we see that the predictions are mimicking the labels visibly:"
   ]
  },
  {
   "cell_type": "code",
   "execution_count": 109,
   "id": "78ab22c1",
   "metadata": {},
   "outputs": [
    {
     "name": "stdout",
     "output_type": "stream",
     "text": [
      "torch.return_types.max(\n",
      "values=tensor([9.4137], grad_fn=<MaxBackward0>),\n",
      "indices=tensor([14]))\n",
      "\n",
      "tensor([ 5, 13, 13,  1,  0, 15, 12,  9, 22,  9,  1,  0,  1, 22,  1,  0,  9, 19,\n",
      "         1,  2,  5, 12, 12,  1,  0, 19, 15, 16,  8,  9,  1,  0])\n"
     ]
    }
   ],
   "source": [
    "print(logits.max(1)) # For each of the 32 inputs, give the index of the highest probability output neuron\n",
    "print(f'\\n{Y}')"
   ]
  },
  {
   "cell_type": "markdown",
   "id": "362fb8fe",
   "metadata": {},
   "source": [
    "In some cases, though, the predictions are not equal to the labels. Why is that?<br>\n",
    "In pracice, we will actually never reach a $0.00$ Loss. This is because of triplets and labels like these:\n",
    "\n",
    "`... -> a`<br>\n",
    "`... -> e`\n",
    "\n",
    "**Given the same input, different outputs are expected.**"
   ]
  },
  {
   "cell_type": "markdown",
   "id": "dea69294",
   "metadata": {},
   "source": [
    "## Working with the full dataset\n",
    "\n",
    "Rewind. We start with the full dataset again. Forget the ominous $32$ inputs.<br>\n",
    "Now its this many:"
   ]
  },
  {
   "cell_type": "code",
   "execution_count": 27,
   "id": "61ca130c",
   "metadata": {},
   "outputs": [
    {
     "name": "stdout",
     "output_type": "stream",
     "text": [
      "Input: torch.Size([228146, 3]) torch.int64 tensor([0, 0, 0])\n",
      "Output: torch.Size([228146]) torch.int64 tensor(5)\n"
     ]
    }
   ],
   "source": [
    "# Build the dataset\n",
    "block_size = 3  # context length: how many characters used to predict the next? (1 before)\n",
    "X, Y = [], []   # features (input) and labels (output)\n",
    "\n",
    "# Just show the first three words as example\n",
    "for w in words:\n",
    "    context = [0] * block_size\n",
    "    for ch in w + '.':\n",
    "        ix = stoi[ch]\n",
    "        \n",
    "        X.append(context)\n",
    "        Y.append(ix)\n",
    "        \n",
    "        # Showing what input and expected output now look like\n",
    "        context = context[1:] + [ix] # crop and append, like a rolling window; NEAT!\n",
    "\n",
    "# These DO NOT carry characters, but their respective index numbers\n",
    "X = torch.tensor(X)\n",
    "Y = torch.tensor(Y)\n",
    "\n",
    "print('Input:', X.shape, X.dtype, X[0])\n",
    "print('Output:', Y.shape, Y.dtype, Y[0]) "
   ]
  },
  {
   "cell_type": "code",
   "execution_count": 28,
   "id": "556fa8d2",
   "metadata": {},
   "outputs": [
    {
     "name": "stdout",
     "output_type": "stream",
     "text": [
      "3481 parameters\n"
     ]
    }
   ],
   "source": [
    "g = torch.Generator().manual_seed(2147483647) # for reproducibility\n",
    "C = torch.randn((27,2), generator=g)          # 27 characters, 2 dimensions each\n",
    "W1 = torch.randn((6,100), generator=g)        # 3 characters times 2 embedding values as inputs to 100 neurons\n",
    "b1 = torch.randn((100), generator=g)          # 100 biases added to the 100 neuron outputs\n",
    "W2 = torch.randn((100,27), generator=g)       # 100 neuron outputs as inputs to 27 output neurons\n",
    "b2 = torch.randn((27), generator=g)           # 27 biases added to the 27 output neurons\n",
    "\n",
    "parameters = [C, W1, b1, W2, b2] # Cluster all parameters into one structure\n",
    "\n",
    "print(sum(p.nelement() for p in parameters), 'parameters') # Network stays the same, so same number of parameters"
   ]
  },
  {
   "cell_type": "code",
   "execution_count": 29,
   "id": "a77f3e99",
   "metadata": {},
   "outputs": [],
   "source": [
    "# Allowing for gradient accumulation\n",
    "for p in parameters:\n",
    "    p.requires_grad = True"
   ]
  },
  {
   "cell_type": "code",
   "execution_count": 30,
   "id": "b8bf023d",
   "metadata": {},
   "outputs": [
    {
     "name": "stdout",
     "output_type": "stream",
     "text": [
      "19.505226135253906\n",
      "17.084487915039062\n",
      "15.776531219482422\n",
      "14.833340644836426\n",
      "14.002603530883789\n",
      "13.253260612487793\n",
      "12.57991886138916\n",
      "11.983101844787598\n",
      "11.47049331665039\n",
      "11.05185604095459\n"
     ]
    }
   ],
   "source": [
    "for _ in range(10):\n",
    "    # Forward-Pass\n",
    "    emb = C[X] # (228146, 3, 2)\n",
    "    h = torch.tanh(emb.view(-1, 6) @ W1 + b1) # (228146, 100)\n",
    "    logits = h @ W2 + b2 # (228146, 27)\n",
    "\n",
    "    # Leaving this here for happy memories of low performance:\n",
    "    # counts = logits.exp()\n",
    "    # prob = counts / counts.sum(1, keepdims=True)\n",
    "    # loss = -prob[torch.arange(32), Y].log().mean()\n",
    "    \n",
    "    loss = F.cross_entropy(logits, Y)\n",
    "    \n",
    "    print(loss.item())\n",
    "    \n",
    "    # Backward-Pass\n",
    "    for p in parameters:\n",
    "        p.grad = None\n",
    "    \n",
    "    loss.backward()\n",
    "    \n",
    "    # Update\n",
    "    for p in parameters:\n",
    "        p.data += -0.1 * p.grad"
   ]
  },
  {
   "cell_type": "markdown",
   "id": "0e85769b",
   "metadata": {},
   "source": [
    "### Accelerate with Batch-Processing"
   ]
  },
  {
   "cell_type": "markdown",
   "id": "a4aa6e8b",
   "metadata": {},
   "source": [
    "It takes quite a while to do a Forward-Pass and Backward-Pass over so many parameters at once.<br>\n",
    "**The training process can be accelerated through Batch-Processing**.<br>\n",
    "We want to randomly draw some $n$ inputs from the dataset and train on this subset. Forward. Backward. Update. All done exclusively on this subset.<br>\n",
    "Then we draw another $n$ inputs and repeat the process.<br>\n",
    "We do this until we have gone through the whole dataset once. This is called an **epoch**.<br>"
   ]
  },
  {
   "cell_type": "code",
   "execution_count": 76,
   "id": "a9a222be",
   "metadata": {},
   "outputs": [
    {
     "name": "stdout",
     "output_type": "stream",
     "text": [
      "tensor([18, 14,  5, 24, 29, 27, 20, 24,  6,  0, 27,  4, 11, 27,  1,  3, 10,  4,\n",
      "        20, 12, 25, 10, 10, 12, 23,  3, 26, 14,  5,  5,  9, 14])\n"
     ]
    }
   ],
   "source": [
    "print(torch.randint(0, X.shape[0], (32,))) # Construct a tensor of 32 randomly drawn numbers between 0 and 228146"
   ]
  },
  {
   "cell_type": "code",
   "execution_count": 77,
   "id": "ca30134c",
   "metadata": {},
   "outputs": [
    {
     "name": "stdout",
     "output_type": "stream",
     "text": [
      "3481 parameters\n"
     ]
    }
   ],
   "source": [
    "# Reset the parameters once again for this new approach\n",
    "g = torch.Generator().manual_seed(2147483647) # for reproducibility\n",
    "C = torch.randn((27,2), generator=g)          # 27 characters, 2 dimensions each\n",
    "W1 = torch.randn((6,100), generator=g)        # 3 characters times 2 embedding values as inputs to 100 neurons\n",
    "b1 = torch.randn((100), generator=g)          # 100 biases added to the 100 neuron outputs\n",
    "W2 = torch.randn((100,27), generator=g)       # 100 neuron outputs as inputs to 27 output neurons\n",
    "b2 = torch.randn((27), generator=g)           # 27 biases added to the 27 output neurons\n",
    "\n",
    "parameters = [C, W1, b1, W2, b2] # Cluster all parameters into one structure\n",
    "\n",
    "print(sum(p.nelement() for p in parameters), 'parameters') # Network stays the same, so same number of parameters\n",
    "\n",
    "for p in parameters:\n",
    "    p.requires_grad = True"
   ]
  },
  {
   "cell_type": "code",
   "execution_count": 78,
   "id": "aca5e993",
   "metadata": {},
   "outputs": [
    {
     "name": "stdout",
     "output_type": "stream",
     "text": [
      "Loss for current mini-batch: 0.29219260811805725\n"
     ]
    }
   ],
   "source": [
    "for _ in range(1000):\n",
    "    \n",
    "    # mini-batch construction -> 32 indices of 3-dimensional character index vectors within X\n",
    "    ix = torch.randint(0, X.shape[0], (32,))\n",
    "    \n",
    "    # Forward-Pass\n",
    "    emb = C[X[ix]] # (32, 3, 2), a single batch, X[ix] grabs only the 32 indices, C then grabs the 2-dimensional vectors for each of the 3 characters for the current of the 32 triplets\n",
    "    h = torch.tanh(emb.view(-1, 6) @ W1 + b1) # (32, 100)\n",
    "    logits = h @ W2 + b2 # (32, 27)\n",
    "\n",
    "    loss = F.cross_entropy(logits, Y[ix]) # Y[ix] grabs the 32 expected output indices for the current batch (very elegant)\n",
    "    \n",
    "    # Backward-Pass\n",
    "    for p in parameters:\n",
    "        p.grad = None\n",
    "    \n",
    "    loss.backward()\n",
    "    \n",
    "    # Update\n",
    "    for p in parameters:\n",
    "        p.data += -0.1 * p.grad\n",
    "\n",
    "print('Loss for current mini-batch:', loss.item())"
   ]
  },
  {
   "cell_type": "code",
   "execution_count": 79,
   "id": "e4a10d7d",
   "metadata": {},
   "outputs": [
    {
     "name": "stdout",
     "output_type": "stream",
     "text": [
      "Loss for entire dataset: 0.26934054493904114\n"
     ]
    }
   ],
   "source": [
    "emb = C[X] # (32, 3, 2)\n",
    "h = torch.tanh(emb.view(-1,6) @ W1 + b1) # (32, 100)\n",
    "logits = h @ W2 + b2 # (32, 27)\n",
    "loss = F.cross_entropy(logits, Y)\n",
    "print('Loss for entire dataset:', loss.item())"
   ]
  },
  {
   "cell_type": "markdown",
   "id": "9ccbbdc7",
   "metadata": {},
   "source": [
    "This is much faster, but less accurate. Still, this is the more efficient way, because through the subset of batches we are optimizing with a more quickly derived, yet just slightly deviating gradient each time.<br>\n",
    "**We are thus staggering towards the optimum, but the direction is still roughly correct.**"
   ]
  },
  {
   "cell_type": "markdown",
   "id": "de831d61",
   "metadata": {},
   "source": [
    "### Improve the Learning Rate"
   ]
  },
  {
   "cell_type": "markdown",
   "id": "96d8c774",
   "metadata": {},
   "source": [
    "The learning rate is a hyperparameter that controls how much the model’s weights (or parameters) are adjusted during training. It determines the step size taken in the direction of the negative gradient of the loss function, which helps the model learn over time.\n",
    "\n",
    "- Large learning rate: If the learning rate is too large, the model might overshoot the optimal solution, causing the loss to diverge instead of converging.\n",
    "- Small learning rate: If the learning rate is too small, the model will learn very slowly, and it might get stuck in local minima or plateau before reaching the global minimum.\n",
    "\n",
    "The batch approach reveals new questions.<br>\n",
    "If you're now just staggering around, what is a good learning rate?<br>\n",
    "So far it was $0.1$, but now?\n",
    "\n",
    "The following steps are recommended to find a good learning rate for the batch approach:\n",
    "1. Reset parameters\n",
    "2. Choose a small number of iterations, e.g. $100$ (for batch-processing)\n",
    "3. Through trial and error and resetting and running with new learning rates: Optimum lies somewhere between $1$ and $0.001$. (Otherwise the gradient is too strong)\n",
    "4. We build a set of possible learning rates with `torch.linspace`"
   ]
  },
  {
   "cell_type": "code",
   "execution_count": 90,
   "id": "4123b2c3",
   "metadata": {},
   "outputs": [],
   "source": [
    "# 1000 values between -3 and 0, linearly spaced\n",
    "# lre = learning rate exponent\n",
    "# builds set of possible learning rates\n",
    "lre = torch.linspace(-3, 0, 1000) \n",
    "lrs = 10 ** lre # 1000 values between 10^-3 and 10^0\n",
    "# lrs"
   ]
  },
  {
   "cell_type": "markdown",
   "id": "320f76aa",
   "metadata": {},
   "source": [
    "With the above defined learning rate candidates, we now, per candidate, draw a batch of inputs and train on the batch.<br>\n",
    "Then we plot the loss for each learning rate candidate. The learning rate with the lowest loss is deemed the best.<br>\n",
    "This makes setting the learning rate a much more educated guess. (Still somewhat a guess, though)"
   ]
  },
  {
   "cell_type": "code",
   "execution_count": 81,
   "id": "babbde29",
   "metadata": {},
   "outputs": [
    {
     "name": "stdout",
     "output_type": "stream",
     "text": [
      "Loss for current mini-batch: 0.630765974521637\n"
     ]
    }
   ],
   "source": [
    "# Reset the parameters once again\n",
    "g = torch.Generator().manual_seed(2147483647) # for reproducibility\n",
    "C = torch.randn((27,2), generator=g)          # 27 characters, 2 dimensions each\n",
    "W1 = torch.randn((6,100), generator=g)        # 3 characters times 2 embedding values as inputs to 100 neurons\n",
    "b1 = torch.randn((100), generator=g)          # 100 biases added to the 100 neuron outputs\n",
    "W2 = torch.randn((100,27), generator=g)       # 100 neuron outputs as inputs to 27 output neurons\n",
    "b2 = torch.randn((27), generator=g)           # 27 biases added to the 27 output neurons\n",
    "\n",
    "parameters = [C, W1, b1, W2, b2] # Cluster all parameters into one structure\n",
    "\n",
    "for p in parameters:\n",
    "    p.requires_grad = True\n",
    "\n",
    "lri = []   # List of applied learning rates\n",
    "lossi = [] # List of resulting losses for each learning rate respectively\n",
    "\n",
    "for i in range(1000):\n",
    "    # mini-batch construction\n",
    "    ix = torch.randint(0, X.shape[0], (32,)) # (32,)\n",
    "    \n",
    "    # Forward-Pass\n",
    "    emb = C[X[ix]] # (32, 3, 2)\n",
    "    h = torch.tanh(emb.view(-1, 6) @ W1 + b1) # (32, 100)\n",
    "    logits = h @ W2 + b2 # (32, 27)\n",
    "\n",
    "    # The loss is calculated using F.cross_entropy, which \n",
    "    # combines the softmax activation\n",
    "    # and negative log-likelihood loss in one step.\n",
    "    loss = F.cross_entropy(logits, Y[ix])\n",
    "    \n",
    "    # Backward-Pass\n",
    "    for p in parameters:\n",
    "        p.grad = None\n",
    "    loss.backward()\n",
    "    \n",
    "    # Set learning rate candidate\n",
    "    lr = lrs[i]\n",
    "    \n",
    "    for p in parameters:\n",
    "        p.data += -lr * p.grad\n",
    "    \n",
    "    # Tracking stats\n",
    "    lri.append(lre[i])\n",
    "    # lri.append(lr)\n",
    "    lossi.append(loss.item())\n",
    "    \n",
    "print('Loss for current mini-batch:', loss.item())"
   ]
  },
  {
   "cell_type": "code",
   "execution_count": 82,
   "id": "68301df3",
   "metadata": {},
   "outputs": [
    {
     "data": {
      "image/png": "[encoded data removed]",
      "text/plain": [
       "<Figure size 640x480 with 1 Axes>"
      ]
     },
     "metadata": {},
     "output_type": "display_data"
    }
   ],
   "source": [
    "plt.plot(lri, lossi);"
   ]
  },
  {
   "cell_type": "markdown",
   "id": "26c6bece",
   "metadata": {},
   "source": [
    "Let's go further and actually determine the $lri$ associated with the lowest loss:"
   ]
  },
  {
   "cell_type": "code",
   "execution_count": 83,
   "id": "25bea6a7",
   "metadata": {},
   "outputs": [
    {
     "name": "stdout",
     "output_type": "stream",
     "text": [
      "tensor(-0.5135)\n"
     ]
    }
   ],
   "source": [
    "# Get index of smallest loss in lossi\n",
    "print(lri[lossi.index(min(lossi))])"
   ]
  },
  {
   "cell_type": "markdown",
   "id": "0e43152e",
   "metadata": {},
   "source": [
    "With this, we have a well-founded confirmation that $0.1$ is within a good region of values to choose for the learning rate.<br>\n",
    "Smaller values have the descent bottom out at a too shallow level, while larger values make the descent too bumpy.<br> \n",
    "Note that now, also, towards the end of the training, learning rate decay is applied.\n",
    "\n",
    "Ok, then let's train properly now:"
   ]
  },
  {
   "cell_type": "code",
   "execution_count": 87,
   "id": "22b91f66",
   "metadata": {},
   "outputs": [],
   "source": [
    "# Reset the parameters once again\n",
    "g = torch.Generator().manual_seed(2147483647) # for reproducibility\n",
    "C = torch.randn((27,2), generator=g)          # 27 characters, 2 dimensions each\n",
    "W1 = torch.randn((6,100), generator=g)        # 3 characters times 2 embedding values as inputs to 100 neurons\n",
    "b1 = torch.randn((100), generator=g)          # 100 biases added to the 100 neuron outputs\n",
    "W2 = torch.randn((100,27), generator=g)       # 100 neuron outputs as inputs to 27 output neurons\n",
    "b2 = torch.randn((27), generator=g)           # 27 biases added to the 27 output neurons\n",
    "\n",
    "parameters = [C, W1, b1, W2, b2] # Cluster all parameters into one structure\n",
    "\n",
    "for p in parameters:\n",
    "    p.requires_grad = True"
   ]
  },
  {
   "cell_type": "code",
   "execution_count": 88,
   "id": "5722b7e5",
   "metadata": {},
   "outputs": [
    {
     "name": "stdout",
     "output_type": "stream",
     "text": [
      "Loss for current mini-batch: 0.207481250166893\n"
     ]
    }
   ],
   "source": [
    "for i in range(70000):\n",
    "    \n",
    "    # mini-batch construct\n",
    "    ix = torch.randint(0, X.shape[0], (32,))\n",
    "    \n",
    "    # Forward-Pass\n",
    "    emb = C[X[ix]] # (32, 3, 2)\n",
    "    h = torch.tanh(emb.view(-1, 6) @ W1 + b1) # (32, 100)\n",
    "    logits = h @ W2 + b2\n",
    "    loss = F.cross_entropy(logits, Y[ix])\n",
    "    \n",
    "    # Backward-Pass\n",
    "    for p in parameters:\n",
    "        p.grad = None\n",
    "    loss.backward()\n",
    "    \n",
    "    # Learning rate decay to more closely approach the minimum\n",
    "    lr = 0.1 if i < 50000 else 0.01\n",
    "\n",
    "    for p in parameters:\n",
    "        p.data += -lr * p.grad\n",
    "    \n",
    "print('Loss for current mini-batch:', loss.item())"
   ]
  },
  {
   "cell_type": "code",
   "execution_count": 89,
   "id": "2674fd85",
   "metadata": {},
   "outputs": [
    {
     "name": "stdout",
     "output_type": "stream",
     "text": [
      "0.25267383456230164\n"
     ]
    }
   ],
   "source": [
    "emb = C[X] # (32, 3, 2)\n",
    "h = torch.tanh(emb.view(-1,6) @ W1 + b1) # (32, 100)\n",
    "logits = h @ W2 + b2 # (32, 27)\n",
    "loss = F.cross_entropy(logits, Y)\n",
    "print(loss.item())"
   ]
  },
  {
   "cell_type": "markdown",
   "id": "47f164aa",
   "metadata": {},
   "source": [
    "We achieved a lower loss than before. But is that good? How do we know?<br>\n",
    "The model itself is small, only $3481$ parameters. Larger models could bring better performance, or bad cases of overfitting.<br><br>How could we detect that?"
   ]
  },
  {
   "cell_type": "markdown",
   "id": "9bb46047",
   "metadata": {},
   "source": [
    "### Split the dataset\n",
    "\n",
    "The larger the model, the bigger the risk of it memorizing the dataset verbatim. This is called, and we've seen this before, **overfitting**.<br>\n",
    "So, to avoid our performance measurements to be distorted by how well the model may have just memorized instead of generalized,<br>we need to split the dataset into portions for training, validation and testing.<br>The latter ones the model has never trained on, so we can use them to measure the generalization performance of the model.\n",
    "\n",
    "There is `training split`, `dev/validation split`, `test split`.<br> The distribution of the data among these subsets is roughly chosen domain-independently like this: $80\\%$, $10\\%$, $10\\%$\n",
    "\n",
    "Splitting the datset looks like this:"
   ]
  },
  {
   "cell_type": "code",
   "execution_count": 55,
   "id": "c56440ae",
   "metadata": {},
   "outputs": [
    {
     "name": "stdout",
     "output_type": "stream",
     "text": [
      "Training Set:\n",
      "X: torch.Size([182625, 3]) \tY: torch.Size([182625])\n",
      "Validation Set:\n",
      "X: torch.Size([22655, 3]) \tY: torch.Size([22655])\n",
      "Test Set:\n",
      "X: torch.Size([22866, 3]) \tY: torch.Size([22866])\n"
     ]
    }
   ],
   "source": [
    "import random\n",
    "\n",
    "def build_dataset(words):\n",
    "    block_size = 3\n",
    "    X, Y = [], []\n",
    "    \n",
    "    for w in words:\n",
    "        context = [0] * block_size\n",
    "        for ch in w + '.':\n",
    "            ix = stoi[ch]\n",
    "            X.append(context)\n",
    "            Y.append(ix)\n",
    "            context = context[1:] + [ix] # crop and append\n",
    "    \n",
    "    X = torch.tensor(X)\n",
    "    Y = torch.tensor(Y)\n",
    "    print('X:', X.shape, '\\tY:', Y.shape)\n",
    "    return X,Y\n",
    "\n",
    "random.seed(42)          # for reproducibility\n",
    "random.shuffle(words)    # words is just the bare list of all names, from wayyy above\n",
    "n1 = int(0.8*len(words)) # index at 80% of all words (rounded for integer indexing)\n",
    "n2 = int(0.9*len(words)) # index at 90% of all words (rounded for integer indexing)\n",
    "\n",
    "print('Training Set:')\n",
    "Xtr, Ytr = build_dataset(words[:n1])     # The first 80% of all words\n",
    "print('Validation Set:')\n",
    "Xdev, Ydev = build_dataset(words[n1:n2]) # The 10% from 80% to 90% of all words\n",
    "print('Test Set:')\n",
    "Xte, Yte = build_dataset(words[n2:])     # The 10% from 90% to 100% of all words"
   ]
  },
  {
   "cell_type": "markdown",
   "id": "9f7ad22d",
   "metadata": {},
   "source": [
    "Before we play around with the model architecture, let's first see how well the current model performs on the validation set and the test set when trained on the training set only:"
   ]
  },
  {
   "cell_type": "code",
   "execution_count": 43,
   "id": "42dc9158",
   "metadata": {},
   "outputs": [
    {
     "name": "stdout",
     "output_type": "stream",
     "text": [
      "3481 parameters\n"
     ]
    }
   ],
   "source": [
    "# Reset the parameters once again\n",
    "g = torch.Generator().manual_seed(2147483647) # for reproducibility\n",
    "C = torch.randn((27,2), generator=g)          # 27 characters, 2 dimensions each\n",
    "W1 = torch.randn((6,100), generator=g)        # 3 characters times 2 embedding values as inputs to 100 neurons\n",
    "b1 = torch.randn((100), generator=g)          # 100 biases added to the 100 neuron outputs\n",
    "W2 = torch.randn((100,27), generator=g)       # 100 neuron outputs as inputs to 27 output neurons\n",
    "b2 = torch.randn((27), generator=g)           # 27 biases added to the 27 output neurons\n",
    "\n",
    "parameters = [C, W1, b1, W2, b2] # Cluster all parameters into one structure\n",
    "\n",
    "print(sum(p.nelement() for p in parameters), 'parameters')\n",
    "\n",
    "for p in parameters:\n",
    "    p.requires_grad = True"
   ]
  },
  {
   "cell_type": "code",
   "execution_count": 44,
   "id": "d3365563",
   "metadata": {},
   "outputs": [],
   "source": [
    "# update to use training data Xtr, Ytr\n",
    "for i in range(40000):\n",
    "    \n",
    "    # mini-batch construct\n",
    "    ix = torch.randint(0, Xtr.shape[0], (32,))\n",
    "    \n",
    "    # Forward-Pass\n",
    "    emb = C[Xtr[ix]] # (32, 3, 2)\n",
    "    h = torch.tanh(emb.view(-1, 6) @ W1 + b1) # (32, 100)\n",
    "    logits = h @ W2 + b2\n",
    "    loss = F.cross_entropy(logits, Ytr[ix])\n",
    "    \n",
    "    # Backward-Pass\n",
    "    for p in parameters:\n",
    "        p.grad = None\n",
    "    loss.backward()\n",
    "    \n",
    "    # Learning rate decay to more closely approach the minimum\n",
    "    lr = 0.1 if i < 30000 else 0.01\n",
    "\n",
    "    for p in parameters:\n",
    "        p.data += -lr * p.grad\n",
    "    \n",
    "# print('Loss for current mini-batch:', loss.item())"
   ]
  },
  {
   "cell_type": "code",
   "execution_count": 45,
   "id": "1d4493d9",
   "metadata": {},
   "outputs": [
    {
     "name": "stdout",
     "output_type": "stream",
     "text": [
      "2.34187912940979\n"
     ]
    }
   ],
   "source": [
    "# Validation loss\n",
    "# using Dev data\n",
    "emb = C[Xdev] # (32, 3, 2)\n",
    "h = torch.tanh(emb.view(-1,6) @ W1 + b1) # (32, 100)\n",
    "logits = h @ W2 + b2 # (32, 27)\n",
    "loss = F.cross_entropy(logits, Ydev)\n",
    "print(loss.item())"
   ]
  },
  {
   "cell_type": "code",
   "execution_count": 46,
   "id": "6658b0ab",
   "metadata": {},
   "outputs": [
    {
     "name": "stdout",
     "output_type": "stream",
     "text": [
      "2.338966131210327\n"
     ]
    }
   ],
   "source": [
    "# Test loss\n",
    "emb = C[Xte] # (32, 3, 2)\n",
    "h = torch.tanh(emb.view(-1,6) @ W1 + b1) # (32, 100)\n",
    "logits = h @ W2 + b2 # (32, 27)\n",
    "loss = F.cross_entropy(logits, Yte)\n",
    "print(loss.item())"
   ]
  },
  {
   "cell_type": "markdown",
   "id": "ddffb8dd",
   "metadata": {},
   "source": [
    "We can see that validation and test loss are about equal. This is good. It means that the model is not overfitting.<br>\n",
    "The model is not powerful enough to memorize the training set, as it's too small.<br><br>**We underfit.**<br><br>\n",
    "This is a sign for us that we are in fact able to increase the model size without risking overfitting too quickly.<br>\n",
    "\n",
    "If we want to really see the impact of splitting the dataset, we need to start playing around with the total parameter count of the model.<br>\n",
    "We can do this by changing the width of the hidden layer. \n",
    "\n",
    "Let's try $300$ instead of $100$ neurons:"
   ]
  },
  {
   "cell_type": "code",
   "execution_count": 47,
   "id": "9f749e77",
   "metadata": {},
   "outputs": [
    {
     "name": "stdout",
     "output_type": "stream",
     "text": [
      "10281 parameters\n"
     ]
    }
   ],
   "source": [
    "g = torch.Generator().manual_seed(2147483647) # for reproducibility\n",
    "C = torch.randn((27,2), generator=g)\n",
    "W1 = torch.randn((6,300), generator=g)\n",
    "b1 = torch.randn((300), generator=g)\n",
    "W2 = torch.randn((300,27), generator=g)\n",
    "b2 = torch.randn((27), generator=g)\n",
    "\n",
    "parameters = [C, W1, b1, W2, b2] # Cluster all parameters into one structure\n",
    "\n",
    "print(sum(p.nelement() for p in parameters), 'parameters')\n",
    "\n",
    "for p in parameters:\n",
    "    p.requires_grad = True"
   ]
  },
  {
   "cell_type": "code",
   "execution_count": 96,
   "id": "54727424",
   "metadata": {},
   "outputs": [],
   "source": [
    "lossi = [] # list of losses per mini-batch\n",
    "stepi = [] # list of steps (mini-batches)\n",
    "\n",
    "for i in range(180000):\n",
    "    \n",
    "    # mini-batch construct\n",
    "    ix = torch.randint(0, Xtr.shape[0], (32,))\n",
    "    \n",
    "    # Forward-Pass\n",
    "    emb = C[Xtr[ix]] # (32, 3, 2)\n",
    "    h = torch.tanh(emb.view(-1, 6) @ W1 + b1) # (32, 100)\n",
    "    logits = h @ W2 + b2 # (32, 27)\n",
    "    loss = F.cross_entropy(logits, Ytr[ix]) \n",
    "    \n",
    "    # Backward-Pass\n",
    "    for p in parameters:\n",
    "        p.grad = None\n",
    "    \n",
    "    loss.backward()\n",
    "    \n",
    "    lr = 0.1 if i < 60000 else 0.05 if i < 120000 else 0.01\n",
    "    \n",
    "    for p in parameters:\n",
    "        p.data += -lr * p.grad\n",
    "    \n",
    "    # Loss per mini-batch tracking\n",
    "    stepi.append(i)\n",
    "    lossi.append(loss.item())\n",
    "    \n",
    "#print('Loss for current mini-batch:', loss.item())"
   ]
  },
  {
   "cell_type": "code",
   "execution_count": 97,
   "id": "104359f7",
   "metadata": {},
   "outputs": [
    {
     "data": {
      "image/png": "[encoded data removed]",
      "text/plain": [
       "<Figure size 640x480 with 1 Axes>"
      ]
     },
     "metadata": {},
     "output_type": "display_data"
    }
   ],
   "source": [
    "plt.plot(stepi, lossi);"
   ]
  },
  {
   "cell_type": "markdown",
   "id": "8a1110e7",
   "metadata": {},
   "source": [
    "The plot's thickness is due to mini-batch gradient descent. More precisely, different mini-batches have a bit deviating, different loss values.<br>\n",
    "This is because the mini-batches are randomly drawn from the training set.<br>\n",
    "In total, though, they visibly converge and follow the same trend.\n",
    "\n",
    "> In general, the larger the batch size, the more stable the training process. But also the more memory is required."
   ]
  },
  {
   "cell_type": "code",
   "execution_count": 98,
   "id": "a76fd770",
   "metadata": {},
   "outputs": [
    {
     "name": "stdout",
     "output_type": "stream",
     "text": [
      "2.228414535522461\n"
     ]
    }
   ],
   "source": [
    "# Training loss\n",
    "emb = C[Xtr] # (32, 3, 2)\n",
    "h = torch.tanh(emb.view(-1,6) @ W1 + b1) # (32, 300)\n",
    "logits = h @ W2 + b2 # (32, 27)\n",
    "loss = F.cross_entropy(logits, Ytr)\n",
    "print(loss.item())"
   ]
  },
  {
   "cell_type": "code",
   "execution_count": 99,
   "id": "b747bd00",
   "metadata": {},
   "outputs": [
    {
     "name": "stdout",
     "output_type": "stream",
     "text": [
      "2.2374050617218018\n"
     ]
    }
   ],
   "source": [
    "# Validation loss\n",
    "emb = C[Xdev] # (32, 3, 2)\n",
    "h = torch.tanh(emb.view(-1,6) @ W1 + b1) # (32, 300)\n",
    "logits = h @ W2 + b2 # (32, 27)\n",
    "loss = F.cross_entropy(logits, Ydev)\n",
    "print(loss.item())"
   ]
  },
  {
   "cell_type": "code",
   "execution_count": 100,
   "id": "0af7592f",
   "metadata": {},
   "outputs": [
    {
     "name": "stdout",
     "output_type": "stream",
     "text": [
      "2.240673303604126\n"
     ]
    }
   ],
   "source": [
    "# Test loss\n",
    "emb = C[Xte] # (32, 3, 2)\n",
    "h = torch.tanh(emb.view(-1,6) @ W1 + b1) # (32, 300)\n",
    "logits = h @ W2 + b2 # (32, 27)\n",
    "loss = F.cross_entropy(logits, Yte)\n",
    "print(loss.item())"
   ]
  },
  {
   "cell_type": "markdown",
   "id": "51ef9e66",
   "metadata": {},
   "source": [
    "The losses for the training set, the validation set and the test set are in the same vicinity.<br>\n",
    "This is good. It means that the model is not overfitting.<br>\n",
    "\n",
    "Let's now visualize the embeddings that were trained by the model (the weights and biases of the embedding layer).<br>\n",
    "We visualize `C`, because that is where we put the trainable, two-dimensional embedding vectors.<br>\n",
    "Let's see if the training affected these embeddings in a meaningful way:"
   ]
  },
  {
   "cell_type": "code",
   "execution_count": 101,
   "id": "6278bda1",
   "metadata": {},
   "outputs": [
    {
     "data": {
      "image/png": "[encoded data removed]",
      "text/plain": [
       "<Figure size 800x800 with 1 Axes>"
      ]
     },
     "metadata": {},
     "output_type": "display_data"
    }
   ],
   "source": [
    "# This code plots the 2-dimensional embeddings of the 27 characters\n",
    "plt.figure(figsize=(8,8))\n",
    "# plt.scatter(x,y,s)\n",
    "plt.scatter(C[:,0].data, C[:,1].data, s=200)\n",
    "for i in range(C.shape[0]):\n",
    "    plt.text(C[i,0].item(), C[i,1].item(), itos[i], ha=\"center\", va=\"center\", color=\"white\")\n",
    "plt.grid('minor')"
   ]
  },
  {
   "cell_type": "markdown",
   "id": "16afef5d",
   "metadata": {},
   "source": [
    "We can see the vowels are clustered together. This means that the model has learned that vowels are, to some extend, interchangeable and therefore somewhat alike in character.<br>\n",
    "`q` seems to be very unique, just like our special `.` character. We can see structure, it's not just pure randomness.<br>\n",
    "\n",
    "\n",
    "Let's optimize further beyond increasing the model's hidden layer.<br>\n",
    "Let'stackle the next possible bottleneck: **The dimensions of the character embeddings.**"
   ]
  },
  {
   "cell_type": "markdown",
   "id": "3095fe66",
   "metadata": {},
   "source": [
    "## Remove the Embedding Bottleneck\n",
    "\n",
    "For a first run, let's increase the embedding dimensions to $10$.<br>\n",
    "With the below code, the goal was to beat Andrej's validation loss of $2.17$:"
   ]
  },
  {
   "cell_type": "code",
   "execution_count": 103,
   "id": "6f6a9aa7",
   "metadata": {},
   "outputs": [],
   "source": [
    "import tqdm\n",
    "import random"
   ]
  },
  {
   "cell_type": "code",
   "execution_count": 104,
   "id": "39c9bcc4",
   "metadata": {},
   "outputs": [
    {
     "name": "stdout",
     "output_type": "stream",
     "text": [
      "Training Set:\n",
      "X: torch.Size([182580, 3]) \tY: torch.Size([182580])\n",
      "Validation Set:\n",
      "X: torch.Size([22767, 3]) \tY: torch.Size([22767])\n",
      "Test Set:\n",
      "X: torch.Size([22799, 3]) \tY: torch.Size([22799])\n"
     ]
    }
   ],
   "source": [
    "block_size = 3\n",
    "\n",
    "def build_dataset(words):\n",
    "    X, Y = [], []\n",
    "    \n",
    "    for w in words:\n",
    "        context = [0] * block_size\n",
    "        for ch in w + '.':\n",
    "            ix = stoi[ch]\n",
    "            X.append(context)\n",
    "            Y.append(ix)\n",
    "            context = context[1:] + [ix] # crop and append\n",
    "    \n",
    "    X = torch.tensor(X)\n",
    "    Y = torch.tensor(Y)\n",
    "    print('X:', X.shape, '\\tY:', Y.shape)\n",
    "    return X,Y\n",
    "\n",
    "random.seed(42)          # for reproducibility\n",
    "random.shuffle(words)    # words is just the bare list of all names, from wayyy above\n",
    "n1 = int(0.8*len(words)) # index at 80% of all words (rounded for integer indexing)\n",
    "n2 = int(0.9*len(words)) # index at 90% of all words (rounded for integer indexing)\n",
    "\n",
    "print('Training Set:')\n",
    "Xtr, Ytr = build_dataset(words[:n1])     # The first 80% of all words\n",
    "print('Validation Set:')\n",
    "Xdev, Ydev = build_dataset(words[n1:n2]) # The 10% from 80% to 90% of all words\n",
    "print('Test Set:')\n",
    "Xte, Yte = build_dataset(words[n2:])     # The 10% from 90% to 100% of all words"
   ]
  },
  {
   "cell_type": "code",
   "execution_count": 105,
   "id": "aa0d268e",
   "metadata": {},
   "outputs": [
    {
     "name": "stdout",
     "output_type": "stream",
     "text": [
      "11897 parameters\n"
     ]
    }
   ],
   "source": [
    "g = torch.Generator().manual_seed(2147483647) # for reproducibility\n",
    "# 10 dimensial embeddings for each word\n",
    "C = torch.randn((27, 10), generator=g) # C=feature vectors\n",
    "# 30 (10X3) inputs to hidden layer\n",
    "W1 = torch.randn((30,200), generator=g)\n",
    "b1 = torch.randn((200), generator=g)\n",
    "W2 = torch.randn((200,27), generator=g)\n",
    "b2 = torch.randn((27), generator=g)\n",
    "\n",
    "parameters = [C, W1, b1, W2, b2] # Cluster all parameters into one structure\n",
    "\n",
    "print(sum(p.nelement() for p in parameters), 'parameters')\n",
    "\n",
    "for p in parameters:\n",
    "    p.requires_grad = True\n",
    "    \n",
    "lossi = []\n",
    "stepi = []"
   ]
  },
  {
   "cell_type": "code",
   "execution_count": 106,
   "id": "1f79062f",
   "metadata": {},
   "outputs": [
    {
     "name": "stderr",
     "output_type": "stream",
     "text": [
      "100%|███████████████████████████████████████████████████████████| 300000/300000 [01:39<00:00, 3021.99it/s]\n"
     ]
    }
   ],
   "source": [
    "for i in tqdm.tqdm(range(300000)):\n",
    "    # mini-batch construct\n",
    "    ix = torch.randint(0, Xtr.shape[0], (128,)) # Batch size was 32 before, now 128\n",
    "    \n",
    "    # Forward-Pass\n",
    "    emb = C[Xtr[ix]] # (32, 3, 10)\n",
    "    h1 = torch.tanh(emb.view(-1, 30) @ W1 + b1) # (32, 300)\n",
    "    logits = h1 @ W2 + b2 # (32, 50)\n",
    "    loss = F.cross_entropy(logits, Ytr[ix]) # (32,)\n",
    "    \n",
    "    # Backward-Pass\n",
    "    for p in parameters:\n",
    "        p.grad = None\n",
    "    loss.backward()\n",
    "    \n",
    "    lr = 0.1 if i < 60000 else 0.05 if i < 120000 else 0.01\n",
    "    \n",
    "    for p in parameters:\n",
    "        p.data += -lr * p.grad\n",
    "    \n",
    "    stepi.append(i)\n",
    "    lossi.append(loss.log10().item())\n",
    "    \n",
    "# print('Loss for current mini-batch:', loss.item())"
   ]
  },
  {
   "cell_type": "code",
   "execution_count": 58,
   "id": "1b8fc17b",
   "metadata": {},
   "outputs": [
    {
     "data": {
      "image/png": "[encoded data removed]",
      "text/plain": [
       "<Figure size 640x480 with 1 Axes>"
      ]
     },
     "metadata": {},
     "output_type": "display_data"
    }
   ],
   "source": [
    "plt.plot(stepi, lossi);"
   ]
  },
  {
   "cell_type": "code",
   "execution_count": 59,
   "id": "408cbd13",
   "metadata": {},
   "outputs": [
    {
     "name": "stdout",
     "output_type": "stream",
     "text": [
      "2.1522507667541504\n"
     ]
    }
   ],
   "source": [
    "# Validation loss w/ dev\n",
    "emb = C[Xdev] # (32, 3, 2)\n",
    "h = torch.tanh(emb.view(-1,30) @ W1 + b1) # (32, 300)\n",
    "logits = h @ W2 + b2 # (32, 27)\n",
    "loss = F.cross_entropy(logits, Ydev)\n",
    "print(loss.item())"
   ]
  },
  {
   "cell_type": "code",
   "execution_count": 60,
   "id": "c3eb4e86",
   "metadata": {},
   "outputs": [
    {
     "name": "stdout",
     "output_type": "stream",
     "text": [
      "2.12158203125\n"
     ]
    }
   ],
   "source": [
    "# Training loss w test\n",
    "emb = C[Xtr] # (32, 3, 2)\n",
    "h = torch.tanh(emb.view(-1,30) @ W1 + b1) # (32, 300)\n",
    "logits = h @ W2 + b2 # (32, 27)\n",
    "loss = F.cross_entropy(logits, Ytr)\n",
    "print(loss.item())"
   ]
  },
  {
   "cell_type": "markdown",
   "id": "471f9ae4",
   "metadata": {},
   "source": [
    "Training and validation performance are slightly, very slowly, drifting apart. **This is a sign of overfitting.**<br>\n",
    "We could now go and increase the model input from three to four characters per tuple."
   ]
  },
  {
   "cell_type": "code",
   "execution_count": 108,
   "id": "ec7747f2",
   "metadata": {},
   "outputs": [
    {
     "name": "stdout",
     "output_type": "stream",
     "text": [
      "carlaizabelle.\n",
      "khi.\n",
      "mili.\n",
      "taty.\n",
      "sacaysie.\n",
      "mahuel.\n",
      "den.\n",
      "rha.\n",
      "kaeli.\n",
      "ner.\n",
      "kia.\n",
      "chaiir.\n",
      "kaleigh.\n",
      "ham.\n",
      "jory.\n",
      "quint.\n",
      "sulin.\n",
      "alianni.\n",
      "watero.\n",
      "dearyxi.\n"
     ]
    }
   ],
   "source": [
    "# sample from the model\n",
    "g = torch.Generator().manual_seed(2147483647 + 10)\n",
    "\n",
    "# generate 20 samples\n",
    "for _ in range(20):\n",
    "    out = []\n",
    "    context = [0] * block_size # initialize with all ...\n",
    "    while True:\n",
    "        # embed current context\n",
    "        # first dimension is size of training set\n",
    "        emb = C[torch.tensor([context])] # (1, block_size, d)\n",
    "        # embedding get projected into end state\n",
    "        h = torch.tanh(emb.view(1, -1) @ W1 + b1)\n",
    "        logits = h @ W2 + b2\n",
    "        # softmax exponentiats logits and makes them sum to 1\n",
    "        # similar to cross entropy in that it prevents overflows\n",
    "        probs = F.softmax(logits, dim=1)\n",
    "        # sample from probabilities to get next index\n",
    "        ix = torch.multinomial(probs, num_samples=1, generator=g).item()\n",
    "        # shift context window to append the index\n",
    "        context = context[1:] + [ix]\n",
    "        out.append(ix)\n",
    "        \n",
    "        if ix == 0:\n",
    "            break\n",
    "            \n",
    "    print(''.join(itos[i] for i in out))"
   ]
  },
  {
   "cell_type": "markdown",
   "id": "3b11f161",
   "metadata": {},
   "source": [
    "<center>Notebook by <a href=\"https://github.com/mk2112\" target=\"_blank\">mk2112</a>.</center>"
   ]
  }
 ],
 "metadata": {
  "kernelspec": {
   "display_name": "Python 3 (ipykernel)",
   "language": "python",
   "name": "python3"
  },
  "language_info": {
   "codemirror_mode": {
    "name": "ipython",
    "version": 3
   },
   "file_extension": ".py",
   "mimetype": "text/x-python",
   "name": "python",
   "nbconvert_exporter": "python",
   "pygments_lexer": "ipython3",
   "version": "3.9.1"
  }
 },
 "nbformat": 4,
 "nbformat_minor": 5
}
