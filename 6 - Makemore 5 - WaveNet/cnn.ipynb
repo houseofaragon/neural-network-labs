{
 "cells": [
  {
   "cell_type": "markdown",
   "id": "bd201930-2cee-4bfe-b3e1-95020a5577a1",
   "metadata": {},
   "source": [
    "Wavenet - language model - autoregressive model"
   ]
  },
  {
   "cell_type": "code",
   "execution_count": 57,
   "id": "95384b64-6743-4ef2-8586-26defc4020d6",
   "metadata": {},
   "outputs": [],
   "source": [
    "import torch\n",
    "import torch.nn.functional as F\n",
    "import matplotlib.pyplot as plt\n",
    "%matplotlib inline"
   ]
  },
  {
   "cell_type": "code",
   "execution_count": 190,
   "id": "4d27a96c-f961-401e-9004-9cb16620ed90",
   "metadata": {},
   "outputs": [
    {
     "name": "stdout",
     "output_type": "stream",
     "text": [
      "4945\n",
      "['aaren', 'aarika', 'abagael', 'abagail', 'abbe', 'abbey', 'abbi', 'abbie', 'abby', 'abbye', 'abigael', 'abigail', 'abigale', 'abra', 'ada', 'adah', 'adaline', 'adan', 'adara', 'adda', 'addi', 'addia', 'addie', 'addy', 'adel', 'adela', 'adelaida', 'adelaide', 'adele', 'adelheid']\n"
     ]
    }
   ],
   "source": [
    "# read in all the words\n",
    "words = open('names.txt', 'r').read().splitlines()\n",
    "print(len(words))\n",
    "words = [word.lower() for word in list(words)]\n",
    "# [p for layer in layers for p in layer.parameters()]\n",
    "words = [word for word in words if ' ' not in word and '-' not in word] \n",
    "print(words[:30])"
   ]
  },
  {
   "cell_type": "code",
   "execution_count": 191,
   "id": "23c683b7-15a1-435a-81fa-78d924d9a873",
   "metadata": {},
   "outputs": [
    {
     "name": "stdout",
     "output_type": "stream",
     "text": [
      "{'a': 1, 'b': 2, 'c': 3, 'd': 4, 'e': 5, 'f': 6, 'g': 7, 'h': 8, 'i': 9, 'j': 10, 'k': 11, 'l': 12, 'm': 13, 'n': 14, 'o': 15, 'p': 16, 'q': 17, 'r': 18, 's': 19, 't': 20, 'u': 21, 'v': 22, 'w': 23, 'x': 24, 'y': 25, 'z': 26}\n"
     ]
    }
   ],
   "source": [
    "# build vocabulary of characters and mapping to/from integers\n",
    "chars = sorted(list(set(''.join(words))))\n",
    "# chars = [c for c in chars if c not in (' ', '-')]\n",
    "# print(chars)\n",
    "\n",
    "stoi = {s:i+1 for i,s in enumerate(chars)}\n",
    "print(stoi)\n",
    "stoi['.'] = 0\n",
    "itos = {i:s for s,i in stoi.items()}"
   ]
  },
  {
   "cell_type": "code",
   "execution_count": 192,
   "id": "3a670d97-de30-4cd9-a4b1-b6146e22c815",
   "metadata": {},
   "outputs": [],
   "source": [
    "import random\n",
    "random.seed(42)\n",
    "random.shuffle(words)"
   ]
  },
  {
   "cell_type": "code",
   "execution_count": 193,
   "id": "1ab4e196-5cbe-4b6e-973a-edad78d12d6a",
   "metadata": {},
   "outputs": [],
   "source": [
    "# build the dataset\n",
    "block_size = 8 # context length: how many characters do we take to predict the next one?\n",
    "\n",
    "def build_dataset(words):  \n",
    "  X, Y = [], []\n",
    "  \n",
    "  for w in words:\n",
    "    context = [0] * block_size\n",
    "    for ch in w + '.':\n",
    "      # if ch not in (' ', '-'):\n",
    "      ix = stoi[ch]\n",
    "      X.append(context)\n",
    "      Y.append(ix)\n",
    "      context = context[1:] + [ix] # crop and append\n",
    "\n",
    "  X = torch.tensor(X)\n",
    "  Y = torch.tensor(Y)\n",
    "  print(X.shape, Y.shape)\n",
    "  return X, Y"
   ]
  },
  {
   "cell_type": "code",
   "execution_count": 194,
   "id": "478ff4ab-c261-4b12-b58e-2f8c598f665b",
   "metadata": {},
   "outputs": [
    {
     "name": "stdout",
     "output_type": "stream",
     "text": [
      "torch.Size([27841, 8]) torch.Size([27841])\n",
      "torch.Size([3515, 8]) torch.Size([3515])\n",
      "torch.Size([3538, 8]) torch.Size([3538])\n"
     ]
    }
   ],
   "source": [
    "n1 = int(0.8*len(words))\n",
    "n2 = int(0.9*len(words))\n",
    "Xtr,  Ytr  = build_dataset(words[:n1])     # 80%\n",
    "Xdev, Ydev = build_dataset(words[n1:n2])   # 10%\n",
    "Xte,  Yte  = build_dataset(words[n2:])     # 10%"
   ]
  },
  {
   "cell_type": "code",
   "execution_count": 195,
   "id": "66a0ea00-4ac9-4ca0-a5fd-86d58e88086e",
   "metadata": {},
   "outputs": [
    {
     "name": "stdout",
     "output_type": "stream",
     "text": [
      "........ --> m\n",
      ".......m --> a\n",
      "......ma --> r\n",
      ".....mar --> t\n",
      "....mart --> i\n",
      "...marti --> e\n",
      "..martie --> .\n",
      "........ --> j\n",
      ".......j --> e\n",
      "......je --> a\n",
      ".....jea --> n\n",
      "....jean --> e\n",
      "...jeane --> t\n",
      "..jeanet --> t\n",
      ".jeanett --> e\n",
      "jeanette --> .\n",
      "........ --> m\n",
      ".......m --> i\n",
      "......mi --> r\n",
      ".....mir --> e\n"
     ]
    }
   ],
   "source": [
    "for x,y in zip(Xtr[:20], Ytr[:20]):\n",
    "    # print(x)\n",
    "    # print(y)\n",
    "    # for ix in x:\n",
    "        # print(ix)\n",
    "    print(''.join(itos[ix.item()] for ix in x), '-->', itos[y.item()])"
   ]
  },
  {
   "cell_type": "code",
   "execution_count": 196,
   "id": "7267a45e-1068-4260-9bfb-f01ef59734eb",
   "metadata": {},
   "outputs": [],
   "source": [
    "# https://pytorch.org/docs/stable/generated/torch.nn.Linear.html#torch.nn.Linear\n",
    "\n",
    "class Linear:\n",
    "    def __init__(self, in_features, out_features, bias=True):\n",
    "        self.weight = torch.randn((in_features, out_features)) / in_features**0.5\n",
    "        self.bias = torch.zeros(out_features) if bias else None\n",
    "\n",
    "    def __call__(self, x):\n",
    "        self.out = x @ self.weight\n",
    "        if self.bias is not None:\n",
    "            self.out += self.bias\n",
    "        return self.out\n",
    "\n",
    "    def parameters(self):\n",
    "        return [self.weight] + ([] if self.bias is None else [self.bias])"
   ]
  },
  {
   "cell_type": "code",
   "execution_count": 197,
   "id": "b78f96ea-3f62-41a0-ac1b-a55c749a4eec",
   "metadata": {},
   "outputs": [],
   "source": [
    "class BatchNorm1d:\n",
    "  \n",
    "  def __init__(self, dim, eps=1e-5, momentum=0.1):\n",
    "    self.eps = eps\n",
    "    self.momentum = momentum\n",
    "    self.training = True\n",
    "    # parameters (trained with backprop)\n",
    "    self.gamma = torch.ones(dim)\n",
    "    self.beta = torch.zeros(dim)\n",
    "    # buffers (trained with a running 'momentum update')\n",
    "    self.running_mean = torch.zeros(dim)\n",
    "    self.running_var = torch.ones(dim)\n",
    "  \n",
    "  def __call__(self, x):\n",
    "    # calculate the forward pass\n",
    "    if self.training:\n",
    "      if x.ndim == 2:\n",
    "        dim = 0\n",
    "      elif x.ndim == 3:\n",
    "        dim = (0,1)\n",
    "      xmean = x.mean(dim, keepdim=True) # batch mean\n",
    "      xvar = x.var(dim, keepdim=True) # batch variance\n",
    "    else:\n",
    "      xmean = self.running_mean\n",
    "      xvar = self.running_var\n",
    "    xhat = (x - xmean) / torch.sqrt(xvar + self.eps) # normalize to unit variance\n",
    "    self.out = self.gamma * xhat + self.beta\n",
    "    # update the buffers\n",
    "    if self.training:\n",
    "      with torch.no_grad():\n",
    "        self.running_mean = (1 - self.momentum) * self.running_mean + self.momentum * xmean\n",
    "        self.running_var = (1 - self.momentum) * self.running_var + self.momentum * xvar\n",
    "    return self.out\n",
    "  \n",
    "  def parameters(self):\n",
    "    return [self.gamma, self.beta]"
   ]
  },
  {
   "cell_type": "code",
   "execution_count": 198,
   "id": "89cbc63e-a062-435c-958a-7297f671ad85",
   "metadata": {},
   "outputs": [],
   "source": [
    "class Tanh:\n",
    "  def __call__(self, x):\n",
    "    self.out = torch.tanh(x)\n",
    "    return self.out\n",
    "  def parameters(self):\n",
    "    return []"
   ]
  },
  {
   "cell_type": "code",
   "execution_count": 199,
   "id": "968562fe-0777-4dc4-8a58-fe157bcb6a47",
   "metadata": {},
   "outputs": [
    {
     "data": {
      "text/plain": [
       "<torch._C.Generator at 0x112120230>"
      ]
     },
     "execution_count": 199,
     "metadata": {},
     "output_type": "execute_result"
    }
   ],
   "source": [
    "torch.manual_seed(42)"
   ]
  },
  {
   "cell_type": "code",
   "execution_count": 200,
   "id": "c525e5b2-10d7-492f-b3b7-e26568832558",
   "metadata": {},
   "outputs": [
    {
     "name": "stdout",
     "output_type": "stream",
     "text": [
      "22519\n"
     ]
    }
   ],
   "source": [
    "n_embd = 10\n",
    "n_hidden = 200\n",
    "\n",
    "C = torch.randn(vocab_size, n_embd)\n",
    "\n",
    "layers = [\n",
    "    Linear(n_embd * block_size, n_hidden, bias=False),\n",
    "    BatchNorm1d(n_hidden),\n",
    "    Tanh(),\n",
    "    Linear(n_hidden, vocab_size), # output\n",
    "]\n",
    "\n",
    "with torch.no_grad():\n",
    "    layers[-1].weight *= 0.1\n",
    "\n",
    "parameters = [C] + [p for layer in layers for p in layer.parameters()]\n",
    "print(sum(p.nelement() for p in parameters))\n",
    "for p in parameters:\n",
    "    p.requires_grad = True"
   ]
  },
  {
   "cell_type": "code",
   "execution_count": 201,
   "id": "4bb3f04c-1ee1-4024-9676-80aa47371ca9",
   "metadata": {},
   "outputs": [
    {
     "name": "stdout",
     "output_type": "stream",
     "text": [
      "      0/  20000: 3.3785\n",
      "  10000/  20000: 1.7120\n"
     ]
    }
   ],
   "source": [
    "max_steps = 20000\n",
    "batch_size = 32\n",
    "lossi = []\n",
    "\n",
    "for i in range(max_steps):\n",
    "    ix = torch.randint(0, Xtr.shape[0], (batch_size,))\n",
    "    Xb, Yb = Xtr[ix], Ytr[ix] \n",
    "\n",
    "    # forward pass\n",
    "    emb = C[Xb] \n",
    "    x = emb.view(emb.shape[0], -1)\n",
    "    for layer in layers:\n",
    "        x = layer(x)\n",
    "    loss = F.cross_entropy(x, Yb)\n",
    "\n",
    "    # backward pass\n",
    "    for p in parameters:\n",
    "        p.grad = None\n",
    "    loss.backward()\n",
    "\n",
    "    lr = 0.1 if i < 150000 else 0.01\n",
    "    for p in parameters:\n",
    "        p.data += -lr * p.grad\n",
    "\n",
    "    if i % 10000 == 00:\n",
    "        print(f'{i:7d}/{max_steps:7d}: {loss.item():.4f}')\n",
    "    lossi.append(loss.log10().item())"
   ]
  },
  {
   "cell_type": "code",
   "execution_count": 202,
   "id": "4d7d18ed-fc55-4c32-928e-bee5b7a9b86b",
   "metadata": {},
   "outputs": [
    {
     "data": {
      "text/plain": [
       "[<matplotlib.lines.Line2D at 0x125005610>]"
      ]
     },
     "execution_count": 202,
     "metadata": {},
     "output_type": "execute_result"
    },
    {
     "data": {
      "image/png": "[encoded data removed]",
      "text/plain": [
       "<Figure size 640x480 with 1 Axes>"
      ]
     },
     "metadata": {},
     "output_type": "display_data"
    }
   ],
   "source": [
    "plt.plot(lossi)"
   ]
  },
  {
   "cell_type": "code",
   "execution_count": 203,
   "id": "e4ed8ff5-cb91-46bb-8c7c-12d9f0ada77f",
   "metadata": {},
   "outputs": [],
   "source": [
    "for layer in layers:\n",
    "    layer.training = False"
   ]
  },
  {
   "cell_type": "code",
   "execution_count": 210,
   "id": "b698691f-7d19-4bf9-967e-302c82cee1dd",
   "metadata": {},
   "outputs": [
    {
     "name": "stdout",
     "output_type": "stream",
     "text": [
      "train 1.6403613090515137\n",
      "val 1.949974775314331\n"
     ]
    }
   ],
   "source": [
    "@torch.no_grad()\n",
    "def split_loss(split):\n",
    "    x,y = {\n",
    "        'train': (Xtr, Ytr),\n",
    "        'val': (Xdev, Ydev),\n",
    "        'test': (Xte, Yte),\n",
    "    }[split]\n",
    "    emb = C[x]\n",
    "    x = emb.view(emb.shape[0], -1)\n",
    "    for layer in layers:\n",
    "        x = layer(x)\n",
    "    loss = F.cross_entropy(x, y)\n",
    "    print(split, loss.item())\n",
    "\n",
    "split_loss('train')\n",
    "split_loss('val')"
   ]
  },
  {
   "cell_type": "code",
   "execution_count": 212,
   "id": "f7f8101f-95a1-4442-bacc-fce428c6a89c",
   "metadata": {},
   "outputs": [
    {
     "name": "stdout",
     "output_type": "stream",
     "text": [
      "sabafarda.\n",
      "fertanda.\n",
      "filie.\n",
      "taolleke.\n",
      "toli.\n",
      "elva.\n",
      "martella.\n",
      "ashey.\n",
      "sida.\n",
      "tarma.\n",
      "ailee.\n",
      "devette.\n",
      "danitia.\n",
      "avie.\n",
      "nonzie.\n",
      "bmedcie.\n",
      "shelano.\n",
      "darige.\n",
      "mila.\n",
      "margaora.\n",
      "maryann.\n",
      "wildette.\n",
      "bearitte.\n",
      "marti.\n",
      "berthe.\n",
      "lilyttee.\n",
      "anstanau.\n",
      "tathetta.\n",
      "tewty.\n",
      "cuestea.\n",
      "deel.\n",
      "ketette.\n",
      "hetty.\n",
      "hetta.\n",
      "y.\n",
      "shellet.\n",
      "towi.\n",
      "madni.\n",
      "edi.\n",
      "detti.\n",
      "tomi.\n",
      "elone.\n",
      "nettye.\n",
      "katra.\n",
      "est.\n",
      "arissa.\n",
      "rhoba.\n",
      "doritele.\n",
      "marla.\n",
      "suetta.\n",
      "sabre.\n",
      "janisha.\n",
      "vykeet.\n",
      "sandry.\n",
      "nitolinn.\n",
      "viannia.\n",
      "idetra.\n",
      "georgeanne.\n",
      "makolina.\n",
      "ansabella.\n",
      "lverta.\n",
      "bikki.\n",
      "cherise.\n",
      "zyn.\n",
      "maria.\n",
      "woni.\n",
      "arda.\n",
      "geril.\n",
      "tevwin.\n",
      "chonstisa.\n",
      "glendetra.\n",
      "saria.\n",
      "nathery.\n",
      "nonana.\n",
      "shelene.\n",
      "ronnissa.\n",
      "vithie.\n",
      "jeryn.\n",
      "zulce.\n",
      "katharina.\n",
      "cathee.\n",
      "vizney.\n",
      "gaylez.\n",
      "lotie.\n",
      "sabryb.\n",
      "vifab.\n",
      "delina.\n",
      "christe.\n",
      "britnno.\n",
      "korory.\n",
      "abbi.\n",
      "fasda.\n",
      "shorith.\n",
      "iona.\n",
      "kessi.\n",
      "bibita.\n",
      "tissce.\n",
      "diana.\n",
      "ervana.\n",
      "malis.\n",
      "virjana.\n",
      "nomina.\n",
      "dianne.\n",
      "sobi.\n",
      "dianie.\n",
      "drista.\n",
      "barvannah.\n",
      "marganda.\n",
      "auglee.\n",
      "matelixa.\n",
      "bbethet.\n",
      "sadeta.\n",
      "emili.\n",
      "milge.\n",
      "hedella.\n",
      "alico.\n",
      "devina.\n",
      "dori.\n",
      "janita.\n",
      "betti.\n",
      "lorieyt.\n",
      "dety.\n",
      "pettie.\n",
      "magti.\n",
      "baisneita.\n",
      "vonny.\n",
      "toba.\n",
      "junica.\n",
      "laviner.\n",
      "constanine.\n",
      "mirgina.\n",
      "wynd.\n",
      "tarda.\n",
      "fyll.\n",
      "jackelisa.\n",
      "katia.\n",
      "valee.\n",
      "lynda.\n",
      "avanni.\n",
      "malestia.\n",
      "daisa.\n",
      "sheel.\n",
      "shaufita.\n",
      "conna.\n",
      "hedwy.\n",
      "vivice.\n",
      "myrga.\n",
      "bettelra.\n",
      "marylynn.\n",
      "margaretha.\n",
      "harlyn.\n",
      "wilholie.\n",
      "tobi.\n",
      "angeline.\n",
      "daron.\n",
      "motte.\n",
      "sibylly.\n",
      "dorissa.\n",
      "ailene.\n",
      "lorianna.\n",
      "sabika.\n",
      "karlyn.\n",
      "shelba.\n",
      "tessa.\n",
      "dorry.\n",
      "chabi.\n",
      "alinne.\n",
      "torry.\n",
      "cheri.\n",
      "tovi.\n",
      "nella.\n",
      "shettara.\n",
      "abbie.\n",
      "atheod.\n",
      "constancy.\n",
      "arla.\n",
      "etrimory.\n",
      "sheel.\n",
      "shanma.\n",
      "madelina.\n",
      "odephia.\n",
      "keessia.\n",
      "shella.\n",
      "wila.\n",
      "toanettie.\n",
      "patlida.\n",
      "marilynd.\n",
      "sharla.\n",
      "edilie.\n",
      "degetre.\n",
      "brandy.\n",
      "army.\n",
      "lyne.\n",
      "sibilla.\n",
      "kelie.\n",
      "faythe.\n",
      "saedra.\n",
      "betta.\n",
      "lavikah.\n",
      "edita.\n"
     ]
    }
   ],
   "source": [
    "# sample from the model\n",
    "for _ in range(200):\n",
    "    out = []\n",
    "    context = [0] * block_size\n",
    "    while True:\n",
    "        # forward pass the neural net\n",
    "        emb = C[torch.tensor([context])]\n",
    "        x = emb.view(emb.shape[0], -1)\n",
    "        for layer in layers:\n",
    "            x = layer(x)\n",
    "        logits = x\n",
    "        probs = F.softmax(logits, dim=1)\n",
    "\n",
    "        # sample for the distribution\n",
    "        ix = torch.multinomial(probs, num_samples=1).item()\n",
    "        #print(ix)\n",
    "        # shift the context window and track the samples\n",
    "        context = context[1:] + [ix]\n",
    "        out.append(ix)\n",
    "\n",
    "        # if we sample '.' break\n",
    "        if ix == 0:\n",
    "            break\n",
    "\n",
    "    print(''.join(itos[i] for i in out))"
   ]
  },
  {
   "cell_type": "code",
   "execution_count": 216,
   "id": "c3b2ae50-ffb7-4691-a9b3-0936c96bb0f5",
   "metadata": {},
   "outputs": [
    {
     "data": {
      "text/plain": [
       "tensor([[0, 1],\n",
       "        [2, 3],\n",
       "        [4, 5],\n",
       "        [6, 7],\n",
       "        [8, 9]])"
      ]
     },
     "execution_count": 216,
     "metadata": {},
     "output_type": "execute_result"
    }
   ],
   "source": [
    "lossi[:10]\n",
    "\n",
    "torch.arange(10).view(2,5)\n",
    "torch.arange(10).view(5,2)\n",
    "torch.arange(10).view(-1,2)\n"
   ]
  },
  {
   "cell_type": "code",
   "execution_count": null,
   "id": "37875853-63d4-4cb3-b282-af99e814b69d",
   "metadata": {},
   "outputs": [],
   "source": []
  }
 ],
 "metadata": {
  "kernelspec": {
   "display_name": "Python 3 (ipykernel)",
   "language": "python",
   "name": "python3"
  },
  "language_info": {
   "codemirror_mode": {
    "name": "ipython",
    "version": 3
   },
   "file_extension": ".py",
   "mimetype": "text/x-python",
   "name": "python",
   "nbconvert_exporter": "python",
   "pygments_lexer": "ipython3",
   "version": "3.9.6"
  }
 },
 "nbformat": 4,
 "nbformat_minor": 5
}
