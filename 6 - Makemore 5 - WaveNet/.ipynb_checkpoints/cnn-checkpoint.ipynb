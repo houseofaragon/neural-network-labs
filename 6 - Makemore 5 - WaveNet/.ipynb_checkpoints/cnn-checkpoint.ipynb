{
 "cells": [
  {
   "cell_type": "markdown",
   "id": "bd201930-2cee-4bfe-b3e1-95020a5577a1",
   "metadata": {},
   "source": [
    "Wavenet - language model - autoregressive model"
   ]
  },
  {
   "cell_type": "code",
   "execution_count": 52,
   "id": "95384b64-6743-4ef2-8586-26defc4020d6",
   "metadata": {},
   "outputs": [],
   "source": [
    "import torch\n",
    "import torch.nn.functional as F\n",
    "import matplotlib.pyplot as plt\n",
    "%matplotlib inline"
   ]
  },
  {
   "cell_type": "code",
   "execution_count": 53,
   "id": "4d27a96c-f961-401e-9004-9cb16620ed90",
   "metadata": {},
   "outputs": [
    {
     "name": "stdout",
     "output_type": "stream",
     "text": [
      "4945\n",
      "['aaren', 'aarika', 'abagael', 'abagail', 'abbe', 'abbey', 'abbi', 'abbie', 'abby', 'abbye', 'abigael', 'abigail', 'abigale', 'abra', 'ada', 'adah', 'adaline', 'adan', 'adara', 'adda', 'addi', 'addia', 'addie', 'addy', 'adel', 'adela', 'adelaida', 'adelaide', 'adele', 'adelheid']\n"
     ]
    }
   ],
   "source": [
    "# read in all the words\n",
    "words = open('names.txt', 'r').read().splitlines()\n",
    "print(len(words))\n",
    "words = [word.lower() for word in list(words)]\n",
    "# [p for layer in layers for p in layer.parameters()]\n",
    "words = [word for word in words if ' ' not in word and '-' not in word] \n",
    "print(words[:30])"
   ]
  },
  {
   "cell_type": "code",
   "execution_count": 54,
   "id": "23c683b7-15a1-435a-81fa-78d924d9a873",
   "metadata": {},
   "outputs": [
    {
     "name": "stdout",
     "output_type": "stream",
     "text": [
      "{'a': 1, 'b': 2, 'c': 3, 'd': 4, 'e': 5, 'f': 6, 'g': 7, 'h': 8, 'i': 9, 'j': 10, 'k': 11, 'l': 12, 'm': 13, 'n': 14, 'o': 15, 'p': 16, 'q': 17, 'r': 18, 's': 19, 't': 20, 'u': 21, 'v': 22, 'w': 23, 'x': 24, 'y': 25, 'z': 26}\n"
     ]
    }
   ],
   "source": [
    "# build vocabulary of characters and mapping to/from integers\n",
    "chars = sorted(list(set(''.join(words))))\n",
    "# chars = [c for c in chars if c not in (' ', '-')]\n",
    "# print(chars)\n",
    "\n",
    "stoi = {s:i+1 for i,s in enumerate(chars)}\n",
    "\n",
    "print(stoi)\n",
    "stoi['.'] = 0\n",
    "itos = {i:s for s,i in stoi.items()}\n",
    "\n",
    "vocab_size = len(itos)"
   ]
  },
  {
   "cell_type": "code",
   "execution_count": 55,
   "id": "3a670d97-de30-4cd9-a4b1-b6146e22c815",
   "metadata": {},
   "outputs": [],
   "source": [
    "import random\n",
    "random.seed(42)\n",
    "random.shuffle(words)"
   ]
  },
  {
   "cell_type": "code",
   "execution_count": 266,
   "id": "1ab4e196-5cbe-4b6e-973a-edad78d12d6a",
   "metadata": {},
   "outputs": [],
   "source": [
    "# build the dataset\n",
    "block_size = 8 # linear layer now takes 8 characters, instead of 3\n",
    "\n",
    "def build_dataset(words):  \n",
    "  X, Y = [], []\n",
    "  \n",
    "  for w in words:\n",
    "    context = [0] * block_size\n",
    "    for ch in w + '.':\n",
    "      # if ch not in (' ', '-'):\n",
    "      ix = stoi[ch]\n",
    "      X.append(context)\n",
    "      Y.append(ix)\n",
    "      context = context[1:] + [ix] # crop and append\n",
    "\n",
    "  X = torch.tensor(X)\n",
    "  Y = torch.tensor(Y)\n",
    "  print(X.shape, Y.shape)\n",
    "  return X, Y"
   ]
  },
  {
   "cell_type": "code",
   "execution_count": 267,
   "id": "478ff4ab-c261-4b12-b58e-2f8c598f665b",
   "metadata": {},
   "outputs": [
    {
     "name": "stdout",
     "output_type": "stream",
     "text": [
      "torch.Size([27841, 8]) torch.Size([27841])\n",
      "torch.Size([3515, 8]) torch.Size([3515])\n",
      "torch.Size([3538, 8]) torch.Size([3538])\n"
     ]
    }
   ],
   "source": [
    "n1 = int(0.8*len(words))\n",
    "n2 = int(0.9*len(words))\n",
    "Xtr,  Ytr  = build_dataset(words[:n1])     # 80%\n",
    "Xdev, Ydev = build_dataset(words[n1:n2])   # 10%\n",
    "Xte,  Yte  = build_dataset(words[n2:])     # 10%"
   ]
  },
  {
   "cell_type": "code",
   "execution_count": 268,
   "id": "66a0ea00-4ac9-4ca0-a5fd-86d58e88086e",
   "metadata": {},
   "outputs": [
    {
     "name": "stdout",
     "output_type": "stream",
     "text": [
      "........ --> m\n",
      ".......m --> a\n",
      "......ma --> r\n",
      ".....mar --> t\n",
      "....mart --> i\n",
      "...marti --> e\n",
      "..martie --> .\n",
      "........ --> j\n",
      ".......j --> e\n",
      "......je --> a\n",
      ".....jea --> n\n",
      "....jean --> e\n",
      "...jeane --> t\n",
      "..jeanet --> t\n",
      ".jeanett --> e\n",
      "jeanette --> .\n",
      "........ --> m\n",
      ".......m --> i\n",
      "......mi --> r\n",
      ".....mir --> e\n"
     ]
    }
   ],
   "source": [
    "for x,y in zip(Xtr[:20], Ytr[:20]):\n",
    "    # print(x)\n",
    "    # print(y)\n",
    "    # for ix in x:\n",
    "        # print(ix)\n",
    "    print(''.join(itos[ix.item()] for ix in x), '-->', itos[y.item()])"
   ]
  },
  {
   "cell_type": "code",
   "execution_count": 269,
   "id": "7267a45e-1068-4260-9bfb-f01ef59734eb",
   "metadata": {},
   "outputs": [],
   "source": [
    "# https://pytorch.org/docs/stable/generated/torch.nn.Linear.html#torch.nn.Linear\n",
    "\n",
    "class Linear:\n",
    "    def __init__(self, in_features, out_features, bias=True):\n",
    "        self.weight = torch.randn((in_features, out_features)) / in_features**0.5\n",
    "        self.bias = torch.zeros(out_features) if bias else None\n",
    "\n",
    "    def __call__(self, x):\n",
    "        self.out = x @ self.weight\n",
    "        if self.bias is not None:\n",
    "            self.out += self.bias\n",
    "        return self.out\n",
    "\n",
    "    def parameters(self):\n",
    "        return [self.weight] + ([] if self.bias is None else [self.bias])"
   ]
  },
  {
   "cell_type": "code",
   "execution_count": 270,
   "id": "b78f96ea-3f62-41a0-ac1b-a55c749a4eec",
   "metadata": {},
   "outputs": [],
   "source": [
    "class BatchNorm1d:\n",
    "  \n",
    "  def __init__(self, dim, eps=1e-5, momentum=0.1):\n",
    "    self.eps = eps\n",
    "    self.momentum = momentum\n",
    "    self.training = True\n",
    "    # parameters (trained with backprop)\n",
    "    self.gamma = torch.ones(dim)\n",
    "    self.beta = torch.zeros(dim)\n",
    "    # buffers (trained with a running 'momentum update')\n",
    "    self.running_mean = torch.zeros(dim)\n",
    "    self.running_var = torch.ones(dim)\n",
    "  \n",
    "  def __call__(self, x):\n",
    "    # calculate the forward pass\n",
    "    if self.training:\n",
    "      if x.ndim == 2:\n",
    "        dim = 0\n",
    "      elif x.ndim == 3:\n",
    "        dim = (0,1)\n",
    "      xmean = x.mean(dim, keepdim=True) # batch mean\n",
    "      xvar = x.var(dim, keepdim=True) # batch variance\n",
    "    else:\n",
    "      xmean = self.running_mean\n",
    "      xvar = self.running_var\n",
    "    xhat = (x - xmean) / torch.sqrt(xvar + self.eps) # normalize to unit variance\n",
    "    self.out = self.gamma * xhat + self.beta\n",
    "    # update the buffers\n",
    "    if self.training:\n",
    "      with torch.no_grad():\n",
    "        self.running_mean = (1 - self.momentum) * self.running_mean + self.momentum * xmean\n",
    "        self.running_var = (1 - self.momentum) * self.running_var + self.momentum * xvar\n",
    "    return self.out\n",
    "  \n",
    "  def parameters(self):\n",
    "    return [self.gamma, self.beta]"
   ]
  },
  {
   "cell_type": "code",
   "execution_count": 271,
   "id": "89cbc63e-a062-435c-958a-7297f671ad85",
   "metadata": {},
   "outputs": [],
   "source": [
    "class Tanh:\n",
    "  def __call__(self, x):\n",
    "    self.out = torch.tanh(x)\n",
    "    return self.out\n",
    "  def parameters(self):\n",
    "    return []"
   ]
  },
  {
   "cell_type": "code",
   "execution_count": 272,
   "id": "149c9587-a7fc-42a7-a642-b87e8802a811",
   "metadata": {},
   "outputs": [],
   "source": [
    "class Embedding:\n",
    "    def __init__(self, num_embeddings, embedding_dim):\n",
    "        self.weight = torch.randn((num_embeddings, embedding_dim))\n",
    "\n",
    "    def __call__(self, IX):\n",
    "        self.out = self.weight[IX]\n",
    "        return self.out\n",
    "\n",
    "    def parameters(self):\n",
    "        return [self.weight]"
   ]
  },
  {
   "cell_type": "code",
   "execution_count": 273,
   "id": "c51fa7d6-a121-425d-b0be-75951491130f",
   "metadata": {},
   "outputs": [],
   "source": [
    "class FlattenConsecutive:\n",
    "    def __init__(self, n): # n = 3 -> then changed to 8\n",
    "        self.n = n\n",
    "        \n",
    "    def __call__(self, x):\n",
    "        B, T, C = x.shape\n",
    "        x = x.view(B, T//self.n, C*self.n)\n",
    "        if x.shape[1] == 1:\n",
    "            x = x.squeeze()\n",
    "        \n",
    "        self.out = x\n",
    "        return self.out\n",
    "\n",
    "    def parameters(self):\n",
    "        return []"
   ]
  },
  {
   "cell_type": "code",
   "execution_count": 274,
   "id": "7a53264d-dca6-4635-96a6-b7604a3ea572",
   "metadata": {},
   "outputs": [],
   "source": [
    "class Sequential:\n",
    "  def __init__(self, layers):\n",
    "    self.layers = layers\n",
    "  \n",
    "  def __call__(self, x):\n",
    "    for layer in self.layers:\n",
    "      x = layer(x)\n",
    "    self.out = x\n",
    "    return self.out\n",
    "  \n",
    "  def parameters(self):\n",
    "    # get parameters of all layers and stretch them out into one list\n",
    "    return [p for layer in self.layers for p in layer.parameters()]"
   ]
  },
  {
   "cell_type": "code",
   "execution_count": 275,
   "id": "968562fe-0777-4dc4-8a58-fe157bcb6a47",
   "metadata": {},
   "outputs": [
    {
     "data": {
      "text/plain": [
       "<torch._C.Generator at 0x105b5ccb0>"
      ]
     },
     "execution_count": 275,
     "metadata": {},
     "output_type": "execute_result"
    }
   ],
   "source": [
    "torch.manual_seed(42)"
   ]
  },
  {
   "cell_type": "code",
   "execution_count": 285,
   "id": "c525e5b2-10d7-492f-b3b7-e26568832558",
   "metadata": {
    "scrolled": true
   },
   "outputs": [
    {
     "name": "stdout",
     "output_type": "stream",
     "text": [
      "76579\n"
     ]
    }
   ],
   "source": [
    "# original network\n",
    "# n_embd = 10 # the dimensionality of the character embedding vectors\n",
    "# n_hidden = 300 # the number of neurons in the hidden layer of the MLP\n",
    "# model = Sequential([\n",
    "#   Embedding(vocab_size, n_embd),\n",
    "#   FlattenConsecutive(8), Linear(n_embd * 8, n_hidden, bias=False), BatchNorm1d(n_hidden), Tanh(),\n",
    "#   Linear(n_hidden, vocab_size),\n",
    "# ])\n",
    "\n",
    "# hierarchical network\n",
    "n_embd = 24 # the dimensionality of the character embedding vectors\n",
    "n_hidden = 128 # the number of neurons in the hidden layer of the MLP\n",
    "\n",
    "# C = torch.randn(vocab_size, n_embd)\n",
    "model = Sequential([\n",
    "    Embedding(vocab_size, n_embd),\n",
    "    FlattenConsecutive(2), Linear(n_embd * 2, n_hidden, bias=False), BatchNorm1d(n_hidden), Tanh(),\n",
    "    FlattenConsecutive(2), Linear(n_hidden * 2, n_hidden, bias=False), BatchNorm1d(n_hidden), Tanh(),\n",
    "    FlattenConsecutive(2), Linear(n_hidden * 2, n_hidden, bias=False), BatchNorm1d(n_hidden), Tanh(),\n",
    "    Linear(n_hidden, vocab_size), # output\n",
    "])\n",
    "\n",
    "with torch.no_grad():\n",
    "    layers[-1].weight *= 0.1\n",
    "\n",
    "parameters = model.parameters()\n",
    "print(sum(p.nelement() for p in parameters))\n",
    "for p in parameters:\n",
    "    p.requires_grad = True"
   ]
  },
  {
   "cell_type": "code",
   "execution_count": null,
   "id": "4bb3f04c-1ee1-4024-9676-80aa47371ca9",
   "metadata": {},
   "outputs": [
    {
     "name": "stdout",
     "output_type": "stream",
     "text": [
      "      0/ 200000: 3.5930\n",
      "  10000/ 200000: 1.5634\n",
      "  20000/ 200000: 1.3418\n",
      "  30000/ 200000: 1.6611\n",
      "  40000/ 200000: 1.2412\n",
      "  50000/ 200000: 1.3644\n",
      "  60000/ 200000: 1.6585\n",
      "  70000/ 200000: 1.5927\n",
      "  80000/ 200000: 1.4180\n",
      "  90000/ 200000: 1.2899\n",
      " 100000/ 200000: 1.2949\n",
      " 110000/ 200000: 1.2391\n",
      " 120000/ 200000: 0.9652\n",
      " 130000/ 200000: 1.5066\n",
      " 140000/ 200000: 0.9538\n",
      " 150000/ 200000: 1.3529\n",
      " 160000/ 200000: 1.1957\n"
     ]
    }
   ],
   "source": [
    "max_steps = 200000\n",
    "batch_size = 32\n",
    "lossi = []\n",
    "\n",
    "for i in range(max_steps):\n",
    "  \n",
    "  # minibatch construct\n",
    "  ix = torch.randint(0, Xtr.shape[0], (batch_size,))\n",
    "  Xb, Yb = Xtr[ix], Ytr[ix] # batch X,Y\n",
    "  \n",
    "  # forward pass\n",
    "  logits = model(Xb)\n",
    "  loss = F.cross_entropy(logits, Yb) # loss function\n",
    "  \n",
    "  # backward pass\n",
    "  for p in parameters:\n",
    "    p.grad = None\n",
    "  loss.backward()\n",
    "  \n",
    "  # update: simple SGD\n",
    "  # lr = 0.1 if i < 150000 else 0.01 # step learning rate decay\n",
    "  lr = 0.1 if i < 150000 else 0.01 if i < 180000 else 0.001 # Learning rate decay\n",
    "  for p in parameters:\n",
    "    p.data += -lr * p.grad\n",
    "\n",
    "  # track stats\n",
    "  if i % 10000 == 0: # print every once in a while\n",
    "    print(f'{i:7d}/{max_steps:7d}: {loss.item():.4f}')\n",
    "  lossi.append(loss.log10().item())"
   ]
  },
  {
   "cell_type": "code",
   "execution_count": 284,
   "id": "4d7d18ed-fc55-4c32-928e-bee5b7a9b86b",
   "metadata": {},
   "outputs": [
    {
     "data": {
      "text/plain": [
       "[<matplotlib.lines.Line2D at 0x11fee14f0>]"
      ]
     },
     "execution_count": 284,
     "metadata": {},
     "output_type": "execute_result"
    },
    {
     "data": {
      "image/png": "[encoded data removed]",
      "text/plain": [
       "<Figure size 640x480 with 1 Axes>"
      ]
     },
     "metadata": {},
     "output_type": "display_data"
    }
   ],
   "source": [
    "plt.plot(torch.tensor(lossi).view(-1, 1000).mean(1))"
   ]
  },
  {
   "cell_type": "markdown",
   "id": "b2a95832-6d94-44e7-a516-07652233da4f",
   "metadata": {},
   "source": [
    "Performance log:\n",
    "\n",
    "|                                      |train|val  |\n",
    "| ------------------------------------ | --- | --- |\n",
    "| original (3 characters, 12K params)  |2.058|2.105|\n",
    "| context: 3 -> 8 (22K params)         |1.918|2.033|\n",
    "| flat -> hierarchical (22K params)    |1.942|2.029|\n",
    "| fix bug in batchnorm (22K params)    |1.911|2.019|\n",
    "| scale up the network (76K params)    |1.769|1.993|"
   ]
  },
  {
   "cell_type": "code",
   "execution_count": 254,
   "id": "e4ed8ff5-cb91-46bb-8c7c-12d9f0ada77f",
   "metadata": {},
   "outputs": [],
   "source": [
    "for layer in model.layers:\n",
    "    layer.training = False"
   ]
  },
  {
   "cell_type": "code",
   "execution_count": 255,
   "id": "b698691f-7d19-4bf9-967e-302c82cee1dd",
   "metadata": {},
   "outputs": [
    {
     "name": "stdout",
     "output_type": "stream",
     "text": [
      "train 1.2124676704406738\n",
      "val 2.372633218765259\n"
     ]
    }
   ],
   "source": [
    "@torch.no_grad()\n",
    "def split_loss(split):\n",
    "    x,y = {\n",
    "        'train': (Xtr, Ytr),\n",
    "        'val': (Xdev, Ydev),\n",
    "        'test': (Xte, Yte),\n",
    "    }[split]\n",
    "    # emb = C[x]\n",
    "    # x = emb.view(emb.shape[0], -1)\n",
    "    # for layer in layers:\n",
    "    #     x = layer(x)\n",
    "    logits = model(x)\n",
    "    loss = F.cross_entropy(logits, y)\n",
    "    print(split, loss.item())\n",
    "\n",
    "split_loss('train')\n",
    "split_loss('val')"
   ]
  },
  {
   "cell_type": "code",
   "execution_count": 237,
   "id": "f7f8101f-95a1-4442-bacc-fce428c6a89c",
   "metadata": {},
   "outputs": [
    {
     "name": "stdout",
     "output_type": "stream",
     "text": [
      "arexsa.\n",
      "eliza.\n",
      "betrriola.\n",
      "leannike.\n",
      "shara.\n",
      "bobbirae.\n",
      "davongea.\n",
      "blee.\n",
      "nora.\n",
      "leta.\n",
      "emmaline.\n",
      "laurella.\n",
      "emonetta.\n",
      "ersyny.\n",
      "robinette.\n",
      "deecha.\n",
      "ermy.\n",
      "marisse.\n",
      "deuriz.\n",
      "stem.\n",
      "donne.\n",
      "berri.\n",
      "johnee.\n",
      "arlyn.\n",
      "kleketta.\n",
      "anette.\n",
      "dorolexa.\n",
      "jewola.\n",
      "shanya.\n",
      "janya.\n",
      "andice.\n",
      "cechy.\n",
      "lorie.\n",
      "adrian.\n",
      "bembia.\n",
      "gomena.\n",
      "rothistell.\n",
      "domene.\n",
      "maronne.\n",
      "katora.\n",
      "doralea.\n",
      "casolika.\n",
      "corde.\n",
      "madelina.\n",
      "hen.\n",
      "elsei.\n",
      "kar.\n",
      "leta.\n",
      "milgol.\n",
      "perpy.\n",
      "dordelle.\n",
      "belle.\n",
      "shanta.\n",
      "chrisllulee.\n",
      "wilod.\n",
      "melinye.\n",
      "dollie.\n",
      "tamhella.\n",
      "leanna.\n",
      "kelli.\n",
      "donnelle.\n",
      "wirandia.\n",
      "mariann.\n",
      "tobothee.\n",
      "iselynne.\n",
      "shaulette.\n",
      "klesta.\n",
      "billy.\n",
      "margelita.\n",
      "marielle.\n",
      "cyvrilyn.\n",
      "cedda.\n",
      "babbie.\n",
      "merrice.\n",
      "fredea.\n",
      "elsy.\n",
      "cilly.\n",
      "joanda.\n",
      "doroneta.\n",
      "ainstera.\n",
      "betti.\n",
      "courttaye.\n",
      "marjia.\n",
      "kessaque.\n",
      "bessa.\n",
      "deggie.\n",
      "cetafette.\n",
      "nataj.\n",
      "lauriann.\n",
      "amatra.\n",
      "debera.\n",
      "chrissee.\n",
      "tracle.\n",
      "rodie.\n",
      "doe.\n",
      "eviera.\n",
      "lona.\n",
      "lilian.\n",
      "kareia.\n",
      "trucina.\n",
      "nevona.\n",
      "wyla.\n",
      "overon.\n",
      "amabela.\n",
      "bastinza.\n",
      "hara.\n",
      "chirdy.\n",
      "deloe.\n",
      "neda.\n",
      "germy.\n",
      "bergria.\n",
      "deibandin.\n",
      "charmon.\n",
      "devike.\n",
      "tipsy.\n",
      "arabel.\n",
      "gmera.\n",
      "sandy.\n",
      "frankone.\n",
      "jynne.\n",
      "kadita.\n",
      "krista.\n",
      "vivvia.\n",
      "jobie.\n",
      "toesabilla.\n",
      "maronora.\n",
      "margie.\n",
      "foneth.\n",
      "stepra.\n",
      "rubiney.\n",
      "delcine.\n",
      "harriette.\n",
      "monissa.\n",
      "sala.\n",
      "amete.\n",
      "karote.\n",
      "charlyse.\n",
      "zecza.\n",
      "chiolle.\n",
      "iordee.\n",
      "irey.\n",
      "gerti.\n",
      "paulette.\n",
      "yondalee.\n",
      "mandi.\n",
      "valerlina.\n",
      "tamryce.\n",
      "naitleza.\n",
      "cherry.\n",
      "dianne.\n",
      "moray.\n",
      "netti.\n",
      "meressa.\n",
      "peelitta.\n",
      "carlett.\n",
      "ardandda.\n",
      "indie.\n",
      "kateriann.\n",
      "lawettia.\n",
      "sha.\n",
      "guen.\n",
      "nadiana.\n",
      "bewstisa.\n",
      "coletna.\n",
      "dafella.\n",
      "catrea.\n",
      "arda.\n",
      "natashe.\n",
      "penell.\n",
      "branoy.\n",
      "alletet.\n",
      "vivia.\n",
      "illy.\n",
      "sonee.\n",
      "olval.\n",
      "gertre.\n",
      "doretta.\n",
      "dal.\n",
      "sarabe.\n",
      "emyla.\n",
      "rozette.\n",
      "odema.\n",
      "wilhela.\n",
      "sharon.\n",
      "louraine.\n",
      "jollee.\n",
      "marje.\n",
      "karen.\n",
      "addia.\n",
      "gelru.\n",
      "gecila.\n",
      "tessella.\n",
      "materita.\n",
      "jerimo.\n",
      "harriottine.\n",
      "gae.\n",
      "caronica.\n",
      "kristina.\n",
      "melita.\n",
      "babry.\n"
     ]
    }
   ],
   "source": [
    "# sample from the model\n",
    "for _ in range(200):\n",
    "    out = []\n",
    "    context = [0] * block_size\n",
    "    while True:\n",
    "        # forward pass the neural net\n",
    "        # emb = C[torch.tensor([context])]\n",
    "        # x = emb.view(emb.shape[0], -1)\n",
    "        # for layer in layers:\n",
    "        #     x = layer(x)\n",
    "        # logits = x\n",
    "        logits = model(torch.tensor([context]))\n",
    "        probs = F.softmax(logits, dim=1)\n",
    "\n",
    "        # sample for the distribution\n",
    "        ix = torch.multinomial(probs, num_samples=1).item()\n",
    "        #print(ix)\n",
    "        # shift the context window and track the samples\n",
    "        context = context[1:] + [ix]\n",
    "        out.append(ix)\n",
    "\n",
    "        # if we sample '.' break\n",
    "        if ix == 0:\n",
    "            break\n",
    "\n",
    "    print(''.join(itos[i] for i in out))"
   ]
  },
  {
   "cell_type": "code",
   "execution_count": 221,
   "id": "c3b2ae50-ffb7-4691-a9b3-0936c96bb0f5",
   "metadata": {},
   "outputs": [
    {
     "data": {
      "text/plain": [
       "tensor([[0, 1, 2, 3, 4],\n",
       "        [5, 6, 7, 8, 9]])"
      ]
     },
     "execution_count": 221,
     "metadata": {},
     "output_type": "execute_result"
    }
   ],
   "source": [
    "lossi[:10]\n",
    "\n",
    "torch.arange(10).view(2,5)\n",
    "torch.arange(10).view(5,2)\n",
    "torch.arange(10).view(-1,5)\n"
   ]
  },
  {
   "cell_type": "markdown",
   "id": "df69f38c-1327-4ba3-894d-b03ed1f193a0",
   "metadata": {},
   "source": [
    "Wavenet phase\n",
    "chars are crushed slowly - fuse slowly - 2 chars, then 2 bigrams, .."
   ]
  },
  {
   "cell_type": "code",
   "execution_count": 244,
   "id": "7e803ae0-572f-4934-b611-bbae23ebf852",
   "metadata": {},
   "outputs": [],
   "source": [
    "# ix = torch.randint(0, Xtr.shape[0], (4,))\n",
    "# Xb, Yb = Xtr[ix], Ytr[ix]\n",
    "# logits = model(Xb)\n",
    "# print(Xb.shape)\n",
    "# Xb"
   ]
  },
  {
   "cell_type": "code",
   "execution_count": 245,
   "id": "5e634e8b-abab-4b91-818c-1e86c67466c4",
   "metadata": {},
   "outputs": [
    {
     "data": {
      "text/plain": [
       "torch.Size([32, 8, 10])"
      ]
     },
     "execution_count": 245,
     "metadata": {},
     "output_type": "execute_result"
    }
   ],
   "source": [
    "model.layers[0].out.shape # Embedding Layer, 10 dimensional embeddings for 8 chars"
   ]
  },
  {
   "cell_type": "code",
   "execution_count": 246,
   "id": "4a365a17-b9c6-4a28-88db-588d64ca806d",
   "metadata": {},
   "outputs": [
    {
     "data": {
      "text/plain": [
       "torch.Size([32, 4, 20])"
      ]
     },
     "execution_count": 246,
     "metadata": {},
     "output_type": "execute_result"
    }
   ],
   "source": [
    "model.layers[1].out.shape # output of Flatten Layer, concatenation"
   ]
  },
  {
   "cell_type": "code",
   "execution_count": 247,
   "id": "4b7b322f-c23b-495f-aaa5-2402d9d6a1b2",
   "metadata": {},
   "outputs": [
    {
     "data": {
      "text/plain": [
       "torch.Size([32, 4, 68])"
      ]
     },
     "execution_count": 247,
     "metadata": {},
     "output_type": "execute_result"
    }
   ],
   "source": [
    "model.layers[2].out.shape # output of Linear Layer"
   ]
  },
  {
   "cell_type": "code",
   "execution_count": 248,
   "id": "41836550-1976-4a2f-b90a-ad2f7d4e7b93",
   "metadata": {},
   "outputs": [
    {
     "data": {
      "text/plain": [
       "torch.Size([4, 200])"
      ]
     },
     "execution_count": 248,
     "metadata": {},
     "output_type": "execute_result"
    }
   ],
   "source": [
    "(torch.randn(4,80) @ torch.randn(80,200) + torch.rand(200)).shape"
   ]
  },
  {
   "cell_type": "code",
   "execution_count": 249,
   "id": "b1642b0f-c99e-4460-bdc6-084f19a2e7d5",
   "metadata": {},
   "outputs": [],
   "source": [
    "# (1 2) (3 4) (5 6) (7 8)"
   ]
  },
  {
   "cell_type": "code",
   "execution_count": 256,
   "id": "8e7f1370-37b5-4eaf-865c-c7941ed0c4f0",
   "metadata": {},
   "outputs": [
    {
     "name": "stdout",
     "output_type": "stream",
     "text": [
      "Embedding : (3515, 8, 10)\n",
      "FlattenConsecutive : (3515, 4, 20)\n",
      "Linear : (3515, 4, 68)\n",
      "BatchNorm1d : (3515, 4, 68)\n",
      "Tanh : (3515, 4, 68)\n",
      "FlattenConsecutive : (3515, 2, 136)\n",
      "Linear : (3515, 2, 68)\n",
      "BatchNorm1d : (3515, 2, 68)\n",
      "Tanh : (3515, 2, 68)\n",
      "FlattenConsecutive : (3515, 136)\n",
      "Linear : (3515, 68)\n",
      "BatchNorm1d : (3515, 68)\n",
      "Tanh : (3515, 68)\n",
      "Linear : (3515, 27)\n"
     ]
    }
   ],
   "source": [
    "for layer in model.layers:\n",
    "    print(layer.__class__.__name__, ':', tuple(layer.out.shape))"
   ]
  },
  {
   "cell_type": "code",
   "execution_count": null,
   "id": "bb018b17-fb2a-4a2e-bb2f-a94bc471e57a",
   "metadata": {},
   "outputs": [],
   "source": []
  }
 ],
 "metadata": {
  "kernelspec": {
   "display_name": "Python 3 (ipykernel)",
   "language": "python",
   "name": "python3"
  },
  "language_info": {
   "codemirror_mode": {
    "name": "ipython",
    "version": 3
   },
   "file_extension": ".py",
   "mimetype": "text/x-python",
   "name": "python",
   "nbconvert_exporter": "python",
   "pygments_lexer": "ipython3",
   "version": "3.12.6"
  }
 },
 "nbformat": 4,
 "nbformat_minor": 5
}
